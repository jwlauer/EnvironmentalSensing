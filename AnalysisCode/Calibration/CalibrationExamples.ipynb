{
 "cells": [
  {
   "cell_type": "markdown",
   "id": "85eed3a9",
   "metadata": {},
   "source": [
    "# Calibration Examples\n",
    "The computations in this notebook illustrate how one can perform a calibration between an observed sensor output and a known physical parameter. In this analysis, the variable \"x\" represents the sensor output, and the variable \"y\" represents the value of the parameter in known phsyical units. \n",
    "\n",
    "The examples are written in the context of a calibration between the sensor output 1/R and the physical parameter electrical conductivity. The notebook assumes that data describing the relationship betwen 1/R and EC are available at a range of different EC values.\n",
    "\n",
    "The notebook is organized into three sections. First, computations are performed to find the instrument's cell constant k, where EC = k/R. This can be computed from each data point in a straightforward way, and confidence limits on the cell constant can be developed using a simple t-test.  Next, regression is used to develop a relationship between EC and 1/R.  In this method, k represents the slope of the regression line.  Finally, analysis is performed on the logarithms of EC and 1/R, ultimately producing a power-function that describes the relationship between EC and 1/R."
   ]
  },
  {
   "cell_type": "code",
   "execution_count": 1,
   "id": "16392a3e-8432-4a05-adbb-2a76440d6fa7",
   "metadata": {},
   "outputs": [],
   "source": [
    "#If running in a Colab notebook, start the notebook, then remove the hashtags on the following lines\n",
    "#!git clone https://github.com/jwlauer/EnvironmentalSensing.git\n",
    "#%cd EnvironmentalSensing/AnalysisCode/Calibration"
   ]
  },
  {
   "cell_type": "markdown",
   "id": "594202de-9706-4189-a692-0a5d17405b57",
   "metadata": {},
   "source": [
    "### Import Libraries\n",
    "All examples require the following libraries"
   ]
  },
  {
   "cell_type": "code",
   "execution_count": 2,
   "id": "0b290221",
   "metadata": {},
   "outputs": [],
   "source": [
    "import pandas as pd\n",
    "from matplotlib import pyplot as plt\n",
    "import numpy as np\n",
    "from scipy import stats\n",
    "from scipy.stats import t"
   ]
  },
  {
   "cell_type": "markdown",
   "id": "80e406fd",
   "metadata": {},
   "source": [
    "### Read the example dataset\n",
    "Here, we read data from an excel spreadsheet. The relevant columsn for calibration are the column 1/R, which we expect will be realted to electrical conductivity, which is described in column Kt."
   ]
  },
  {
   "cell_type": "code",
   "execution_count": 3,
   "id": "45ec6d88",
   "metadata": {},
   "outputs": [
    {
     "data": {
      "text/html": [
       "<div>\n",
       "<style scoped>\n",
       "    .dataframe tbody tr th:only-of-type {\n",
       "        vertical-align: middle;\n",
       "    }\n",
       "\n",
       "    .dataframe tbody tr th {\n",
       "        vertical-align: top;\n",
       "    }\n",
       "\n",
       "    .dataframe thead th {\n",
       "        text-align: right;\n",
       "    }\n",
       "</style>\n",
       "<table border=\"1\" class=\"dataframe\">\n",
       "  <thead>\n",
       "    <tr style=\"text-align: right;\">\n",
       "      <th></th>\n",
       "      <th>T (°C)</th>\n",
       "      <th>Kt</th>\n",
       "      <th>R1</th>\n",
       "      <th>R2</th>\n",
       "      <th>R</th>\n",
       "      <th>1/R</th>\n",
       "      <th>1/R (uS)</th>\n",
       "    </tr>\n",
       "  </thead>\n",
       "  <tbody>\n",
       "    <tr>\n",
       "      <th>0</th>\n",
       "      <td>16.81</td>\n",
       "      <td>45404.9</td>\n",
       "      <td>2.94</td>\n",
       "      <td>19.75</td>\n",
       "      <td>11.345</td>\n",
       "      <td>0.088145</td>\n",
       "      <td>88144.557074</td>\n",
       "    </tr>\n",
       "    <tr>\n",
       "      <th>1</th>\n",
       "      <td>16.83</td>\n",
       "      <td>45404.9</td>\n",
       "      <td>3.79</td>\n",
       "      <td>21.83</td>\n",
       "      <td>12.810</td>\n",
       "      <td>0.078064</td>\n",
       "      <td>78064.012490</td>\n",
       "    </tr>\n",
       "    <tr>\n",
       "      <th>2</th>\n",
       "      <td>16.85</td>\n",
       "      <td>45404.9</td>\n",
       "      <td>2.68</td>\n",
       "      <td>21.44</td>\n",
       "      <td>12.060</td>\n",
       "      <td>0.082919</td>\n",
       "      <td>82918.739635</td>\n",
       "    </tr>\n",
       "    <tr>\n",
       "      <th>3</th>\n",
       "      <td>17.26</td>\n",
       "      <td>25864.4</td>\n",
       "      <td>11.73</td>\n",
       "      <td>29.18</td>\n",
       "      <td>20.455</td>\n",
       "      <td>0.048888</td>\n",
       "      <td>48887.802493</td>\n",
       "    </tr>\n",
       "    <tr>\n",
       "      <th>4</th>\n",
       "      <td>17.34</td>\n",
       "      <td>25864.4</td>\n",
       "      <td>11.74</td>\n",
       "      <td>31.41</td>\n",
       "      <td>21.575</td>\n",
       "      <td>0.046350</td>\n",
       "      <td>46349.942063</td>\n",
       "    </tr>\n",
       "    <tr>\n",
       "      <th>5</th>\n",
       "      <td>17.35</td>\n",
       "      <td>25864.4</td>\n",
       "      <td>12.48</td>\n",
       "      <td>31.09</td>\n",
       "      <td>21.785</td>\n",
       "      <td>0.045903</td>\n",
       "      <td>45903.144365</td>\n",
       "    </tr>\n",
       "    <tr>\n",
       "      <th>6</th>\n",
       "      <td>18.55</td>\n",
       "      <td>16073.2</td>\n",
       "      <td>37.85</td>\n",
       "      <td>36.52</td>\n",
       "      <td>37.185</td>\n",
       "      <td>0.026893</td>\n",
       "      <td>26892.564206</td>\n",
       "    </tr>\n",
       "    <tr>\n",
       "      <th>7</th>\n",
       "      <td>18.58</td>\n",
       "      <td>16073.2</td>\n",
       "      <td>35.33</td>\n",
       "      <td>38.86</td>\n",
       "      <td>37.095</td>\n",
       "      <td>0.026958</td>\n",
       "      <td>26957.811026</td>\n",
       "    </tr>\n",
       "    <tr>\n",
       "      <th>8</th>\n",
       "      <td>18.62</td>\n",
       "      <td>16073.2</td>\n",
       "      <td>34.31</td>\n",
       "      <td>39.43</td>\n",
       "      <td>36.870</td>\n",
       "      <td>0.027122</td>\n",
       "      <td>27122.321671</td>\n",
       "    </tr>\n",
       "    <tr>\n",
       "      <th>9</th>\n",
       "      <td>18.39</td>\n",
       "      <td>10313.4</td>\n",
       "      <td>51.54</td>\n",
       "      <td>64.95</td>\n",
       "      <td>58.245</td>\n",
       "      <td>0.017169</td>\n",
       "      <td>17168.855696</td>\n",
       "    </tr>\n",
       "    <tr>\n",
       "      <th>10</th>\n",
       "      <td>18.45</td>\n",
       "      <td>10313.4</td>\n",
       "      <td>50.30</td>\n",
       "      <td>66.83</td>\n",
       "      <td>58.565</td>\n",
       "      <td>0.017075</td>\n",
       "      <td>17075.044822</td>\n",
       "    </tr>\n",
       "    <tr>\n",
       "      <th>11</th>\n",
       "      <td>18.43</td>\n",
       "      <td>10313.4</td>\n",
       "      <td>49.70</td>\n",
       "      <td>69.22</td>\n",
       "      <td>59.460</td>\n",
       "      <td>0.016818</td>\n",
       "      <td>16818.028927</td>\n",
       "    </tr>\n",
       "    <tr>\n",
       "      <th>12</th>\n",
       "      <td>17.93</td>\n",
       "      <td>7346.5</td>\n",
       "      <td>84.03</td>\n",
       "      <td>81.55</td>\n",
       "      <td>82.790</td>\n",
       "      <td>0.012079</td>\n",
       "      <td>12078.753473</td>\n",
       "    </tr>\n",
       "    <tr>\n",
       "      <th>13</th>\n",
       "      <td>17.99</td>\n",
       "      <td>7346.5</td>\n",
       "      <td>78.08</td>\n",
       "      <td>84.90</td>\n",
       "      <td>81.490</td>\n",
       "      <td>0.012271</td>\n",
       "      <td>12271.444349</td>\n",
       "    </tr>\n",
       "    <tr>\n",
       "      <th>14</th>\n",
       "      <td>17.97</td>\n",
       "      <td>7346.5</td>\n",
       "      <td>77.09</td>\n",
       "      <td>85.45</td>\n",
       "      <td>81.270</td>\n",
       "      <td>0.012305</td>\n",
       "      <td>12304.663467</td>\n",
       "    </tr>\n",
       "    <tr>\n",
       "      <th>15</th>\n",
       "      <td>17.42</td>\n",
       "      <td>4055.3</td>\n",
       "      <td>125.68</td>\n",
       "      <td>159.52</td>\n",
       "      <td>142.600</td>\n",
       "      <td>0.007013</td>\n",
       "      <td>7012.622721</td>\n",
       "    </tr>\n",
       "    <tr>\n",
       "      <th>16</th>\n",
       "      <td>17.46</td>\n",
       "      <td>4055.3</td>\n",
       "      <td>125.98</td>\n",
       "      <td>161.27</td>\n",
       "      <td>143.625</td>\n",
       "      <td>0.006963</td>\n",
       "      <td>6962.576153</td>\n",
       "    </tr>\n",
       "    <tr>\n",
       "      <th>17</th>\n",
       "      <td>17.49</td>\n",
       "      <td>4055.3</td>\n",
       "      <td>126.11</td>\n",
       "      <td>161.83</td>\n",
       "      <td>143.970</td>\n",
       "      <td>0.006946</td>\n",
       "      <td>6945.891505</td>\n",
       "    </tr>\n",
       "    <tr>\n",
       "      <th>18</th>\n",
       "      <td>17.28</td>\n",
       "      <td>2339.1</td>\n",
       "      <td>248.12</td>\n",
       "      <td>245.45</td>\n",
       "      <td>246.785</td>\n",
       "      <td>0.004052</td>\n",
       "      <td>4052.110136</td>\n",
       "    </tr>\n",
       "    <tr>\n",
       "      <th>19</th>\n",
       "      <td>17.28</td>\n",
       "      <td>2339.1</td>\n",
       "      <td>245.50</td>\n",
       "      <td>251.68</td>\n",
       "      <td>248.590</td>\n",
       "      <td>0.004023</td>\n",
       "      <td>4022.687960</td>\n",
       "    </tr>\n",
       "    <tr>\n",
       "      <th>20</th>\n",
       "      <td>17.28</td>\n",
       "      <td>2339.1</td>\n",
       "      <td>242.03</td>\n",
       "      <td>253.56</td>\n",
       "      <td>247.795</td>\n",
       "      <td>0.004036</td>\n",
       "      <td>4035.593939</td>\n",
       "    </tr>\n",
       "    <tr>\n",
       "      <th>21</th>\n",
       "      <td>16.92</td>\n",
       "      <td>1353.2</td>\n",
       "      <td>419.43</td>\n",
       "      <td>486.94</td>\n",
       "      <td>453.185</td>\n",
       "      <td>0.002207</td>\n",
       "      <td>2206.604367</td>\n",
       "    </tr>\n",
       "    <tr>\n",
       "      <th>22</th>\n",
       "      <td>16.94</td>\n",
       "      <td>1353.2</td>\n",
       "      <td>417.41</td>\n",
       "      <td>474.90</td>\n",
       "      <td>446.155</td>\n",
       "      <td>0.002241</td>\n",
       "      <td>2241.373514</td>\n",
       "    </tr>\n",
       "    <tr>\n",
       "      <th>23</th>\n",
       "      <td>16.94</td>\n",
       "      <td>1353.2</td>\n",
       "      <td>416.83</td>\n",
       "      <td>481.87</td>\n",
       "      <td>449.350</td>\n",
       "      <td>0.002225</td>\n",
       "      <td>2225.436742</td>\n",
       "    </tr>\n",
       "    <tr>\n",
       "      <th>24</th>\n",
       "      <td>16.41</td>\n",
       "      <td>845.8</td>\n",
       "      <td>648.90</td>\n",
       "      <td>682.28</td>\n",
       "      <td>665.590</td>\n",
       "      <td>0.001502</td>\n",
       "      <td>1502.426419</td>\n",
       "    </tr>\n",
       "    <tr>\n",
       "      <th>25</th>\n",
       "      <td>16.42</td>\n",
       "      <td>845.8</td>\n",
       "      <td>644.14</td>\n",
       "      <td>694.23</td>\n",
       "      <td>669.185</td>\n",
       "      <td>0.001494</td>\n",
       "      <td>1494.355074</td>\n",
       "    </tr>\n",
       "    <tr>\n",
       "      <th>26</th>\n",
       "      <td>16.45</td>\n",
       "      <td>845.8</td>\n",
       "      <td>643.02</td>\n",
       "      <td>684.13</td>\n",
       "      <td>663.575</td>\n",
       "      <td>0.001507</td>\n",
       "      <td>1506.988660</td>\n",
       "    </tr>\n",
       "    <tr>\n",
       "      <th>27</th>\n",
       "      <td>16.40</td>\n",
       "      <td>483.5</td>\n",
       "      <td>1062.28</td>\n",
       "      <td>1299.93</td>\n",
       "      <td>1181.105</td>\n",
       "      <td>0.000847</td>\n",
       "      <td>846.664776</td>\n",
       "    </tr>\n",
       "    <tr>\n",
       "      <th>28</th>\n",
       "      <td>16.39</td>\n",
       "      <td>483.5</td>\n",
       "      <td>1058.53</td>\n",
       "      <td>1287.46</td>\n",
       "      <td>1172.995</td>\n",
       "      <td>0.000853</td>\n",
       "      <td>852.518553</td>\n",
       "    </tr>\n",
       "    <tr>\n",
       "      <th>29</th>\n",
       "      <td>16.41</td>\n",
       "      <td>483.5</td>\n",
       "      <td>1071.37</td>\n",
       "      <td>1267.14</td>\n",
       "      <td>1169.255</td>\n",
       "      <td>0.000855</td>\n",
       "      <td>855.245434</td>\n",
       "    </tr>\n",
       "    <tr>\n",
       "      <th>30</th>\n",
       "      <td>16.41</td>\n",
       "      <td>283.9</td>\n",
       "      <td>1733.94</td>\n",
       "      <td>2145.92</td>\n",
       "      <td>1939.930</td>\n",
       "      <td>0.000515</td>\n",
       "      <td>515.482517</td>\n",
       "    </tr>\n",
       "    <tr>\n",
       "      <th>31</th>\n",
       "      <td>16.43</td>\n",
       "      <td>283.9</td>\n",
       "      <td>1721.23</td>\n",
       "      <td>2098.06</td>\n",
       "      <td>1909.645</td>\n",
       "      <td>0.000524</td>\n",
       "      <td>523.657538</td>\n",
       "    </tr>\n",
       "    <tr>\n",
       "      <th>32</th>\n",
       "      <td>16.39</td>\n",
       "      <td>283.9</td>\n",
       "      <td>1712.24</td>\n",
       "      <td>2090.56</td>\n",
       "      <td>1901.400</td>\n",
       "      <td>0.000526</td>\n",
       "      <td>525.928263</td>\n",
       "    </tr>\n",
       "    <tr>\n",
       "      <th>33</th>\n",
       "      <td>16.50</td>\n",
       "      <td>181.4</td>\n",
       "      <td>2587.48</td>\n",
       "      <td>4031.10</td>\n",
       "      <td>3309.290</td>\n",
       "      <td>0.000302</td>\n",
       "      <td>302.179622</td>\n",
       "    </tr>\n",
       "    <tr>\n",
       "      <th>34</th>\n",
       "      <td>16.48</td>\n",
       "      <td>181.4</td>\n",
       "      <td>2577.51</td>\n",
       "      <td>3880.45</td>\n",
       "      <td>3228.980</td>\n",
       "      <td>0.000310</td>\n",
       "      <td>309.695322</td>\n",
       "    </tr>\n",
       "    <tr>\n",
       "      <th>35</th>\n",
       "      <td>16.51</td>\n",
       "      <td>181.4</td>\n",
       "      <td>2583.43</td>\n",
       "      <td>3813.88</td>\n",
       "      <td>3198.655</td>\n",
       "      <td>0.000313</td>\n",
       "      <td>312.631403</td>\n",
       "    </tr>\n",
       "    <tr>\n",
       "      <th>36</th>\n",
       "      <td>16.09</td>\n",
       "      <td>97.6</td>\n",
       "      <td>4465.71</td>\n",
       "      <td>7725.76</td>\n",
       "      <td>6095.735</td>\n",
       "      <td>0.000164</td>\n",
       "      <td>164.049126</td>\n",
       "    </tr>\n",
       "    <tr>\n",
       "      <th>37</th>\n",
       "      <td>16.12</td>\n",
       "      <td>97.6</td>\n",
       "      <td>4290.29</td>\n",
       "      <td>8945.55</td>\n",
       "      <td>6617.920</td>\n",
       "      <td>0.000151</td>\n",
       "      <td>151.104879</td>\n",
       "    </tr>\n",
       "    <tr>\n",
       "      <th>38</th>\n",
       "      <td>16.12</td>\n",
       "      <td>97.6</td>\n",
       "      <td>4267.26</td>\n",
       "      <td>9241.30</td>\n",
       "      <td>6754.280</td>\n",
       "      <td>0.000148</td>\n",
       "      <td>148.054271</td>\n",
       "    </tr>\n",
       "  </tbody>\n",
       "</table>\n",
       "</div>"
      ],
      "text/plain": [
       "    T (°C)       Kt       R1       R2         R       1/R      1/R (uS)\n",
       "0    16.81  45404.9     2.94    19.75    11.345  0.088145  88144.557074\n",
       "1    16.83  45404.9     3.79    21.83    12.810  0.078064  78064.012490\n",
       "2    16.85  45404.9     2.68    21.44    12.060  0.082919  82918.739635\n",
       "3    17.26  25864.4    11.73    29.18    20.455  0.048888  48887.802493\n",
       "4    17.34  25864.4    11.74    31.41    21.575  0.046350  46349.942063\n",
       "5    17.35  25864.4    12.48    31.09    21.785  0.045903  45903.144365\n",
       "6    18.55  16073.2    37.85    36.52    37.185  0.026893  26892.564206\n",
       "7    18.58  16073.2    35.33    38.86    37.095  0.026958  26957.811026\n",
       "8    18.62  16073.2    34.31    39.43    36.870  0.027122  27122.321671\n",
       "9    18.39  10313.4    51.54    64.95    58.245  0.017169  17168.855696\n",
       "10   18.45  10313.4    50.30    66.83    58.565  0.017075  17075.044822\n",
       "11   18.43  10313.4    49.70    69.22    59.460  0.016818  16818.028927\n",
       "12   17.93   7346.5    84.03    81.55    82.790  0.012079  12078.753473\n",
       "13   17.99   7346.5    78.08    84.90    81.490  0.012271  12271.444349\n",
       "14   17.97   7346.5    77.09    85.45    81.270  0.012305  12304.663467\n",
       "15   17.42   4055.3   125.68   159.52   142.600  0.007013   7012.622721\n",
       "16   17.46   4055.3   125.98   161.27   143.625  0.006963   6962.576153\n",
       "17   17.49   4055.3   126.11   161.83   143.970  0.006946   6945.891505\n",
       "18   17.28   2339.1   248.12   245.45   246.785  0.004052   4052.110136\n",
       "19   17.28   2339.1   245.50   251.68   248.590  0.004023   4022.687960\n",
       "20   17.28   2339.1   242.03   253.56   247.795  0.004036   4035.593939\n",
       "21   16.92   1353.2   419.43   486.94   453.185  0.002207   2206.604367\n",
       "22   16.94   1353.2   417.41   474.90   446.155  0.002241   2241.373514\n",
       "23   16.94   1353.2   416.83   481.87   449.350  0.002225   2225.436742\n",
       "24   16.41    845.8   648.90   682.28   665.590  0.001502   1502.426419\n",
       "25   16.42    845.8   644.14   694.23   669.185  0.001494   1494.355074\n",
       "26   16.45    845.8   643.02   684.13   663.575  0.001507   1506.988660\n",
       "27   16.40    483.5  1062.28  1299.93  1181.105  0.000847    846.664776\n",
       "28   16.39    483.5  1058.53  1287.46  1172.995  0.000853    852.518553\n",
       "29   16.41    483.5  1071.37  1267.14  1169.255  0.000855    855.245434\n",
       "30   16.41    283.9  1733.94  2145.92  1939.930  0.000515    515.482517\n",
       "31   16.43    283.9  1721.23  2098.06  1909.645  0.000524    523.657538\n",
       "32   16.39    283.9  1712.24  2090.56  1901.400  0.000526    525.928263\n",
       "33   16.50    181.4  2587.48  4031.10  3309.290  0.000302    302.179622\n",
       "34   16.48    181.4  2577.51  3880.45  3228.980  0.000310    309.695322\n",
       "35   16.51    181.4  2583.43  3813.88  3198.655  0.000313    312.631403\n",
       "36   16.09     97.6  4465.71  7725.76  6095.735  0.000164    164.049126\n",
       "37   16.12     97.6  4290.29  8945.55  6617.920  0.000151    151.104879\n",
       "38   16.12     97.6  4267.26  9241.30  6754.280  0.000148    148.054271"
      ]
     },
     "metadata": {},
     "output_type": "display_data"
    }
   ],
   "source": [
    "xls = pd.ExcelFile(\"Calibration_data.xlsx\")\n",
    "sn = xls.sheet_names\n",
    "data = pd.read_excel(xls,sheet_name = sn[0], header = 0)\n",
    "display(data)"
   ]
  },
  {
   "cell_type": "markdown",
   "id": "3173b942",
   "metadata": {},
   "source": [
    "### Create separate dataframes for x and y\n",
    "To make the code more adaptable for other situations, we now read the known physical property into a variable we call \"x\" and the sensor output into a variable we call \"y\"."
   ]
  },
  {
   "cell_type": "code",
   "execution_count": 4,
   "id": "a6203613",
   "metadata": {},
   "outputs": [],
   "source": [
    "y = data['1/R (uS)']  #These are instrument readings\n",
    "x = data['Kt']       #These are known values (e.g., concentrations)"
   ]
  },
  {
   "cell_type": "markdown",
   "id": "eb738604",
   "metadata": {},
   "source": [
    "## Example 1:  Simple Means\n",
    "For electrical conductivity, the most frequently-used model for relating the sensor output to the physical parameter is using the simple ratio k = EC/R. This model is sufficiently simple that we can just evaluate k for each of our datapoints, then add confidence limits to this estimate.\n",
    "\n",
    "### Compute an array of k estimates and print key statistics\n",
    "Here, we use the Pandas ability to do row-by-row computations quickly. We then print out the results using Pandas built-in .mean(), .std(), and .ser() functions, which represent the mean, standard deviation, and standard error of the data, respectively."
   ]
  },
  {
   "cell_type": "code",
   "execution_count": 5,
   "id": "86a2391e",
   "metadata": {},
   "outputs": [
    {
     "name": "stdout",
     "output_type": "stream",
     "text": [
      "Simple mean of cell constant for all observations = 0.5822\n",
      "Standard deviation of cell constant for all observations = 0.0289\n",
      "Standard error of cell constant for all observations = 0.0046\n"
     ]
    }
   ],
   "source": [
    "k_cell = x/y\n",
    "print(f'Simple mean of cell constant for all observations = {k_cell.mean():.4f}')\n",
    "print(f'Standard deviation of cell constant for all observations = {k_cell.std():.4f}')\n",
    "print(f'Standard error of cell constant for all observations = {k_cell.sem():.4f}')"
   ]
  },
  {
   "cell_type": "markdown",
   "id": "426a3af8",
   "metadata": {},
   "source": [
    "### Analyze the error in electrical conductivity\n",
    "Once we have a model, we are interested in computing the precision of the model.  Here, we can do this by first computing the difference between the observed physical parameter and the estimate we get from our model.  "
   ]
  },
  {
   "cell_type": "code",
   "execution_count": 6,
   "id": "3a54449e",
   "metadata": {},
   "outputs": [
    {
     "name": "stdout",
     "output_type": "stream",
     "text": [
      "Standard deviation of error = 1149.2\n"
     ]
    }
   ],
   "source": [
    "mean_k_cell = k_cell.mean()\n",
    "predicted = y*mean_k_cell  #This is the predicted EC\n",
    "observed = x   #This is the observed EC\n",
    "error = predicted - observed\n",
    "print(f'Standard deviation of error = {error.std():.1f}')"
   ]
  },
  {
   "cell_type": "markdown",
   "id": "a3136a2e",
   "metadata": {},
   "source": [
    "### Compute 95% confidence limits on the error\n",
    "This is traditionally done using the well-known student's t-distribution (a typical topic for an introductory statistics course). The confidence limits on the error, $CL_E$, represent the range within which we expect the error $E$ to fall a specified fraction $\\alpha$ of the time.\n",
    "\n",
    "$CL_E = \\overline{E} \\pm t_{({1-\\alpha/2,n-1})}s_E$\n",
    "\n",
    "The $t$ statistic is accessible using the scipy.stats library, which we've already imported. The computation of confidence limits requires the specification of the confidence interval $\\alpha$ (we use 95% here), the number of degrees of freedom, which is normally the number of data points $n$ minus the number of parameters being estimated (1 in this case), a mean error $\\overline{E}$ (which we assume is zero, since error could be positive and negative), and the standard deviation of error computed from the sample, $s_E$. "
   ]
  },
  {
   "cell_type": "code",
   "execution_count": 9,
   "id": "9f412098",
   "metadata": {},
   "outputs": [
    {
     "name": "stdout",
     "output_type": "stream",
     "text": [
      "Confidence Limits on Error = ± 2326.4\n"
     ]
    }
   ],
   "source": [
    "n = len(error)\n",
    "[error_lower, error_upper] = t.interval(confidence = 0.95, # used to be alpha=0.95,\n",
    "                                          df=n-1,\n",
    "                                          loc=0,\n",
    "                                          scale=error.std()\n",
    "                                       )\n",
    "print(f'Confidence Limits on Error = \\u00B1 {(error_upper - error_lower)/2:.1f}')"
   ]
  },
  {
   "cell_type": "markdown",
   "id": "13139e17",
   "metadata": {},
   "source": [
    "You might be bothered by the fact that this much error is a relatively large fraction of the measurement if we are at the low end of the instrument's range.  A better approach could be to analyze the relative error, that is, the error at each data point divided by the measurement at that point. "
   ]
  },
  {
   "cell_type": "code",
   "execution_count": 11,
   "id": "19d87961",
   "metadata": {},
   "outputs": [
    {
     "name": "stdout",
     "output_type": "stream",
     "text": [
      "Confidence Limits on Relative Error = ± 0.101\n",
      "Confidence Limits on Percent Error = ± 10.1 %\n"
     ]
    }
   ],
   "source": [
    "relative_error = (predicted - observed)/observed\n",
    "[relative_lower, relative_upper] = t.interval(confidence = 0.95, # used to be alpha=0.95,\n",
    "                                             df = n-1,\n",
    "                                             loc = 0,\n",
    "                                             scale = relative_error.std()\n",
    "                                             )\n",
    "print(f'Confidence Limits on Relative Error = \\u00B1 {(relative_upper - relative_lower)/2:.3f}')\n",
    "print(f'Confidence Limits on Percent Error = \\u00B1 {100*(relative_upper - relative_lower)/2:.1f} %')"
   ]
  },
  {
   "cell_type": "markdown",
   "id": "d3b9136d",
   "metadata": {},
   "source": [
    "These results give us a broad-brush estimate of the precision of the device.\n",
    "\n",
    "### Compute 95% confidence limits on the mean\n",
    "It is sometimes also useful to compute the confidence we have in one of our model parameters.  In this case, we can use a t-test to put confidence limits on the mean cell constant. The only difference here is that the standard deviation for a mean computed from $n$ measurements, also known as the standard error, is not simply the standard deviation of the measurements--it's actually the standard deviation of the measurements in the sample, $s$, divided by the square root of the number of measurements $n$.\n",
    "\n",
    "standard error = $\\frac{s}{\\sqrt{n}}$\n",
    "\n",
    "We can now use our equation for confidence limits to place an interval around the mean cell constant, this time using the the standard error as the sample standard deviation and using the mean cell constant as the mean value. As above, we can also present this as a fraction and/or a percentage of the mean cell constant."
   ]
  },
  {
   "cell_type": "code",
   "execution_count": 13,
   "id": "0842437f",
   "metadata": {},
   "outputs": [
    {
     "name": "stdout",
     "output_type": "stream",
     "text": [
      "Cell constant k = 0.5822 ± 0.0094\n",
      "This implies relative error in estimate of k of = 0.0094 / 0.5822 = 1.61%\n"
     ]
    }
   ],
   "source": [
    "[k_cell_lower, k_cell_upper] = t.interval(confidence = 0.95, # used to be alpha=0.95,\n",
    "                                          df=len(k_cell)-1,\n",
    "                                          loc=k_cell.mean(),\n",
    "                                          scale=k_cell.sem()\n",
    "                                          ) \n",
    "delta_k_cell = (k_cell_upper-k_cell_lower)/2\n",
    "percent_error = delta_k_cell / k_cell.mean() * 100\n",
    "print(f'Cell constant k = {k_cell.mean():.4f} \\u00B1 {delta_k_cell:.4f}')\n",
    "print(f'This implies relative error in estimate of k of = {delta_k_cell:.4f} / {k_cell.mean():.4f} = {percent_error:.2f}%')"
   ]
  },
  {
   "cell_type": "markdown",
   "id": "f626d929",
   "metadata": {},
   "source": [
    "Note that the confidence limits on our estimate for the parameter k are MUCH narrower (i.e., confidence is much greater) than the confidence we might have in any single measurement made by the device.\n",
    "\n",
    "## Example 2: Linear Regression\n",
    "One of the major drawbacks at stopping with example 1 is that we have not visualized the data and thus are unsure whether there were any patterns in goodness of fit that depend on EC (or even whether the data really appear linear).\n",
    "\n",
    "### Visualize Raw Data\n",
    "We can start our graphical analyis by plotting our data."
   ]
  },
  {
   "cell_type": "code",
   "execution_count": 14,
   "id": "c1dd9f28",
   "metadata": {},
   "outputs": [
    {
     "name": "stderr",
     "output_type": "stream",
     "text": [
      "<>:13: SyntaxWarning: invalid escape sequence '\\m'\n",
      "<>:13: SyntaxWarning: invalid escape sequence '\\m'\n",
      "C:\\Users\\lauerj\\AppData\\Local\\Temp\\ipykernel_10516\\2900014244.py:13: SyntaxWarning: invalid escape sequence '\\m'\n",
      "  ax.set_xlabel('EC ($\\mu S/cm^2$)')\n"
     ]
    },
    {
     "data": {
      "text/plain": [
       "Text(0, 0.5, '1/R')"
      ]
     },
     "execution_count": 14,
     "metadata": {},
     "output_type": "execute_result"
    },
    {
     "data": {
      "image/png": "[encoded data removed]",
      "text/plain": [
       "<Figure size 640x480 with 1 Axes>"
      ]
     },
     "metadata": {},
     "output_type": "display_data"
    }
   ],
   "source": [
    "fig, ax = plt.subplots(1,1)\n",
    "plt.rc('xtick',labelsize=8)\n",
    "plt.rc('ytick',labelsize=8)\n",
    "ax.plot(x,y,\n",
    "         color = 'black', \n",
    "         markeredgewidth=0.5,\n",
    "         marker = 'o',\n",
    "         linestyle = 'none',\n",
    "         markersize = '3',\n",
    "         fillstyle='none',\n",
    "         label = 'Observed data',\n",
    "         )\n",
    "ax.set_xlabel('EC ($\\mu S/cm^2$)')\n",
    "ax.set_ylabel('1/R') "
   ]
  },
  {
   "cell_type": "markdown",
   "id": "7c6964c3",
   "metadata": {},
   "source": [
    "In the above dataset, data were collected in triplicate (so three points per EC value), starting at a high EC value.  The solution was then diluted by approximately a factor of two for each subsequent EC value.\n",
    "\n",
    "### Perform regression and present some goodness of fit statistics\n",
    "The scipy.stats library includes methods for doing a least-squares linear regression. The function exports the slope and y-intercept of the equation as well as the correlation coefficient $R$, the p-value, and the standard error."
   ]
  },
  {
   "cell_type": "code",
   "execution_count": 15,
   "id": "e43caef7",
   "metadata": {},
   "outputs": [
    {
     "name": "stdout",
     "output_type": "stream",
     "text": [
      "Linear regression gives y = 1.8214x + -455.5096\n",
      "This implies cell constant = 1/1.8214 = 0.5490\n"
     ]
    }
   ],
   "source": [
    "slope, intercept, r_value, p_value, std_err = stats.linregress(x, y)\n",
    "print(f'Linear regression gives y = {slope:.4f}x + {intercept:.4f}')\n",
    "print(f'This implies cell constant = 1/{slope:.4f} = {1/slope:.4f}')"
   ]
  },
  {
   "cell_type": "markdown",
   "id": "800e9c08",
   "metadata": {},
   "source": [
    "### Define function for computing  confidence interval on estimated parameter.\n",
    "\n",
    "The approach presented here is described in detail in Lavagnini and Magno, 2007, Mass Spectrometry Reviews 26, 1-18.\n",
    "\n",
    "The function uses the observed data points x and y, along with the linear y-intercept b0, slope b1, number of replicates expected in a future measurement m (often m = 1), to present the upper and lower lower confidence limits for any value of the physical parameter $\\tilde{x}_0$ (xtilde_0 in the code). Alpha represents the probability that a measurement will fall within the confidence interval between xplus and xminus."
   ]
  },
  {
   "cell_type": "code",
   "execution_count": 16,
   "id": "c755feca",
   "metadata": {},
   "outputs": [],
   "source": [
    "def prediction_limits(x,y,b0,b1,m,xtilde_0,alpha):\n",
    "    n = x.size\n",
    "    ytilde = b0 + b1*x\n",
    "    xbar = x.mean()\n",
    "    s2_yx = ((y-ytilde)**2).sum()/(n-2)\n",
    "    s2_xtilde_0 = (s2_yx/b1**2)*(1/m+1/n+((xtilde_0-xbar)**2)/((x-xbar)**2).sum())\n",
    "    s_xtilde_0 = s2_xtilde_0**0.5\n",
    "    t_stat = t.ppf(1-alpha/2,df=n-2)   \n",
    "    xplus = xtilde_0 + t_stat*s_xtilde_0\n",
    "    xminus = xtilde_0 - t_stat*s_xtilde_0\n",
    "    \n",
    "    return(xminus,xtilde_0,xplus)"
   ]
  },
  {
   "cell_type": "markdown",
   "id": "9bca6ed2",
   "metadata": {},
   "source": [
    "With the function defined, we are now able to apply it to any input values of the known physical parameter we like.  Here, we create a wide range of posible input values using numpy's np.linspace command, evaluate the upper and lower limits using our function. Finally we compute the sensor output that would correspond with each one of our input EC values (our xhat)."
   ]
  },
  {
   "cell_type": "code",
   "execution_count": 17,
   "id": "981f096a",
   "metadata": {},
   "outputs": [],
   "source": [
    "xhat = np.linspace(20,50000,5)\n",
    "[xminus, xhat0, xplus] = prediction_limits(x,y,intercept,slope,1,xhat,.05)\n",
    "yhat = intercept +slope*xhat"
   ]
  },
  {
   "cell_type": "markdown",
   "id": "43417acb",
   "metadata": {},
   "source": [
    "### Graph results \n",
    "Now that we have our best-fit line (xhat vs. yhat) and the confidence limits (xminus vs. yhat) and (xplus vs. yhat), we can add these to our graph. Here, we also format text to describe the calibration equation that is included in the graph. Note that the inverse of this equation is what is normally used to compute a physical value from a sensor reading."
   ]
  },
  {
   "cell_type": "code",
   "execution_count": 18,
   "id": "d7d14faf",
   "metadata": {},
   "outputs": [
    {
     "data": {
      "image/png": "[encoded data removed]",
      "text/plain": [
       "<Figure size 350x400 with 1 Axes>"
      ]
     },
     "execution_count": 18,
     "metadata": {},
     "output_type": "execute_result"
    }
   ],
   "source": [
    "linear_fit = ax.plot(xhat, yhat,\n",
    "    color = 'red',\n",
    "    linewidth = 1,\n",
    "    label = f'y={intercept:4.2f} + {slope:4.2f}x, r$^2$={r_value**2:4.3f}'\n",
    "    )\n",
    "\n",
    "upper_limit = ax.plot(xplus, yhat,\n",
    "    color = 'black',\n",
    "    linewidth = 0.5,\n",
    "    label = 'confidence limits on x'\n",
    "    )\n",
    "\n",
    "lower_limit = ax.plot(xminus, yhat,\n",
    "    color = 'black',\n",
    "    linewidth = 0.5,\n",
    "    )\n",
    "\n",
    "ax.legend(frameon=False, loc='upper left', prop={'size':7})#, ncol=3)\n",
    "fig.set_size_inches(3.5,4)\n",
    "fig"
   ]
  },
  {
   "cell_type": "markdown",
   "id": "f76eb67e",
   "metadata": {},
   "source": [
    "## Example 3: Log-Log Regression\n",
    "The data used in the linear regression presented in Example 2 appears clustered near the lower EC range. This effect occurs because we varied EC in the experiments by dilluting by a factor of two. The non-even nature of the range between points means that linear regression is not the best approach for fitting a line to the data. Furthermore, the errors at the high end of the EC range are evidently much greater than the error at the low end.  We can handle this by repeating all of the above analysis, but instead of performing the analysis on the raw values, we perform the analysis on the natural logs of the values.\n",
    "\n",
    "### Transform raw data to log scale"
   ]
  },
  {
   "cell_type": "code",
   "execution_count": 19,
   "id": "1f807566",
   "metadata": {},
   "outputs": [],
   "source": [
    "x = np.log(x)\n",
    "y = np.log(y)"
   ]
  },
  {
   "cell_type": "markdown",
   "id": "c1e555a9",
   "metadata": {},
   "source": [
    "### Graph the natural logs"
   ]
  },
  {
   "cell_type": "code",
   "execution_count": 20,
   "id": "45141edc",
   "metadata": {},
   "outputs": [
    {
     "data": {
      "image/png": "[encoded data removed]",
      "text/plain": [
       "<Figure size 350x400 with 1 Axes>"
      ]
     },
     "metadata": {},
     "output_type": "display_data"
    }
   ],
   "source": [
    "fig2, ax2 = plt.subplots(1,1)\n",
    "plt.rc('xtick',labelsize=8)\n",
    "plt.rc('ytick',labelsize=8)\n",
    "dataseries = ax2.plot(x,y,\n",
    "         color = 'black', \n",
    "         markeredgewidth=0.5,\n",
    "         marker = 'o',\n",
    "         linestyle = 'none',\n",
    "         markersize = '3',\n",
    "         fillstyle='none',\n",
    "         label = 'Observed data', \n",
    "         )\n",
    "ax2.set_xlabel('ln(EC)')\n",
    "ax2.set_ylabel('ln(1/R)')\n",
    "fig2.set_size_inches(3.5,4)"
   ]
  },
  {
   "cell_type": "markdown",
   "id": "322a544d",
   "metadata": {},
   "source": [
    "Note now that the data appear to have a much more even spacing.  This is because we cut the concentration by a constant fraction with each dilution. Now, because the data are spaced evenly, a regression is more appropriate.\n",
    "\n",
    "### Perform the regression and print results"
   ]
  },
  {
   "cell_type": "code",
   "execution_count": 21,
   "id": "5228ced7",
   "metadata": {},
   "outputs": [
    {
     "name": "stdout",
     "output_type": "stream",
     "text": [
      "Linear regression gives ln(y) = 1.0060ln(x) + 0.4958\n"
     ]
    }
   ],
   "source": [
    "from scipy import stats\n",
    "slope, intercept, r_value, p_value, std_err = stats.linregress(x, y)\n",
    "print(f'Linear regression gives ln(y) = {slope:.4f}ln(x) + {intercept:.4f}')\n"
   ]
  },
  {
   "cell_type": "markdown",
   "id": "4f1eaff0",
   "metadata": {},
   "source": [
    "### Find the prediction interval for the natural logs for a wide range of potential physical values\n",
    "\n",
    "We can now use the same function as before to estimate the prediction interval within with 95% of datapoints are expected to fall. Now, the output of the function simply gives us the range within which 95% of the natural logs would be expected. In order to make the graph, we now need to provide as input natural logs, not raw numbers."
   ]
  },
  {
   "cell_type": "code",
   "execution_count": 22,
   "id": "dadedf28",
   "metadata": {},
   "outputs": [],
   "source": [
    "xhat = np.linspace(np.log(50),np.log(50000),1000)\n",
    "[xminus, xhat0, xplus] = prediction_limits(x,y,intercept,slope,1,xhat,.05)\n",
    "yhat = intercept +slope*xhat"
   ]
  },
  {
   "cell_type": "markdown",
   "id": "3328838d",
   "metadata": {},
   "source": [
    "### Graph the results in log space\n",
    "We can now produce graphs just like before, but with the x- and y-scales presenting the natural logs of the physical parameter and the sensor value."
   ]
  },
  {
   "cell_type": "code",
   "execution_count": 23,
   "id": "d4dee847",
   "metadata": {},
   "outputs": [
    {
     "data": {
      "image/png": "[encoded data removed]",
      "text/plain": [
       "<Figure size 350x400 with 1 Axes>"
      ]
     },
     "execution_count": 23,
     "metadata": {},
     "output_type": "execute_result"
    }
   ],
   "source": [
    "linear_fit = ax2.plot(xhat, yhat,\n",
    "    color = 'red',\n",
    "    linewidth = 1,\n",
    "    label = f'ln(y)={intercept:4.3f} + {slope:4.3f}ln(x), r$^2$={r_value**2:4.3f}'\n",
    "    )\n",
    "\n",
    "upper_limit = ax2.plot(xplus, yhat,\n",
    "    color = 'black',\n",
    "    linewidth = 0.5,\n",
    "    label = 'confidence limits on x'\n",
    "    )\n",
    "\n",
    "lower_limit = ax2.plot(xminus, yhat,\n",
    "    color = 'black',\n",
    "    linewidth = 0.5,\n",
    "    )\n",
    "ax2.legend(frameon=False, loc='upper left', prop={'size':7})#, ncol=3)\n",
    "fig2.set_size_inches(3.5,4)\n",
    "fig2\n"
   ]
  },
  {
   "cell_type": "markdown",
   "id": "9f51703f",
   "metadata": {},
   "source": [
    "Now, it's clear that most of our data points fall within the prediction interval, regardless of the raw EC value."
   ]
  },
  {
   "cell_type": "markdown",
   "id": "e5f52ac1",
   "metadata": {},
   "source": [
    "### Re-transform to real-world units\n",
    "We now have a large number of data points that all represent the natural logarithms of the data we actually care about.  We can now re-transform these to regular units by taking the anti-log of each value. For natural logarithms, this is by use of the exponential function (from the numpy library). We do this for all values, including the prediction limits."
   ]
  },
  {
   "cell_type": "code",
   "execution_count": 24,
   "id": "8dcbc00c",
   "metadata": {},
   "outputs": [],
   "source": [
    "x = np.exp(x)\n",
    "y = np.exp(y)\n",
    "xhat = np.exp(xhat)\n",
    "yhat = np.exp(yhat)\n",
    "xplus = np.exp(xplus)\n",
    "xminus = np.exp(xminus)"
   ]
  },
  {
   "cell_type": "markdown",
   "id": "5af45d9f",
   "metadata": {},
   "source": [
    "### Graph the results of the log-log regression in real units\n",
    "The only thing left to do is to graph our results. The parameters of the line on the log-log regression also allow us to present the results as a power function."
   ]
  },
  {
   "cell_type": "code",
   "execution_count": 25,
   "id": "8de27317",
   "metadata": {},
   "outputs": [
    {
     "name": "stderr",
     "output_type": "stream",
     "text": [
      "<>:13: SyntaxWarning: invalid escape sequence '\\m'\n",
      "<>:13: SyntaxWarning: invalid escape sequence '\\m'\n",
      "C:\\Users\\lauerj\\AppData\\Local\\Temp\\ipykernel_10516\\1578447055.py:13: SyntaxWarning: invalid escape sequence '\\m'\n",
      "  ax3.set_xlabel('EC ($\\mu S/cm^2$)')\n"
     ]
    },
    {
     "data": {
      "image/png": "[encoded data removed]",
      "text/plain": [
       "<Figure size 350x400 with 1 Axes>"
      ]
     },
     "metadata": {},
     "output_type": "display_data"
    }
   ],
   "source": [
    "fig3, ax3 = plt.subplots(1,1)\n",
    "plt.rc('xtick',labelsize=8)\n",
    "plt.rc('ytick',labelsize=8)\n",
    "dataseries = ax3.plot(x,y,\n",
    "         color = 'black', \n",
    "         markeredgewidth=0.5,\n",
    "         marker = 'o',\n",
    "         linestyle = 'none',\n",
    "         markersize = '3',\n",
    "         fillstyle='none',\n",
    "         label = 'Observed data', \n",
    "         )\n",
    "ax3.set_xlabel('EC ($\\mu S/cm^2$)')\n",
    "ax3.set_ylabel('1/R')        \n",
    "\n",
    "linear_fit = ax3.plot(xhat, yhat,\n",
    "    color = 'red',\n",
    "    linewidth = 1,\n",
    "    label = ('y=%4.3f$x^{%4.3f}$, r$^2$=%4.3f' % (intercept, slope, r_value**2))\n",
    "    )\n",
    "\n",
    "upper_limit = ax3.plot(xplus, yhat,\n",
    "    color = 'black',\n",
    "    linewidth = 0.5,\n",
    "    label = 'confidence limits on x'\n",
    "    )\n",
    "\n",
    "lower_limit = ax3.plot(xminus, yhat,\n",
    "    color = 'black',\n",
    "    linewidth = 0.5,\n",
    "    )\n",
    "\n",
    "ax3.legend(frameon=False, loc='upper left', prop={'size':7})#, ncol=3)\n",
    "fig3.set_size_inches(3.5,4)"
   ]
  },
  {
   "cell_type": "markdown",
   "id": "dc4fd420",
   "metadata": {},
   "source": [
    "Now, the prediction interval expands with the range of the variability of the raw datapoints in a plausible way.\n",
    "\n",
    "### Interpretation and use with a specific sensor reading\n",
    "\n",
    "The functional relationships graphed in the figure allow a measurement made by the sensor to be converted both to a best-estimate of the physical parameter in question (EC here, as represented by the red line) as well as the best estimates of the 95% confidence limits for a measurement.  For example, a given reading on the y-axis, say 1/R = 20,000, can be converted to a best estimate on the x-axis using the parameters of the regression and the prediction limits function. Here, we use the results of the log-log regression, and the result is printed to the screen."
   ]
  },
  {
   "cell_type": "code",
   "execution_count": 26,
   "id": "81bd40e6",
   "metadata": {},
   "outputs": [
    {
     "name": "stdout",
     "output_type": "stream",
     "text": [
      "For the case where a sensor 1/R is 20000, the corresponding range for the physical parameter is:\n",
      "Lower Limit = 10414, Best Estimate = 11515, Upper Limit = 12734\n"
     ]
    }
   ],
   "source": [
    "sensor_reading = 20000  #this represents 1/R\n",
    "ln_sensor_reading = np.log(sensor_reading)  #this is the log of the sensor reading--represents y in regression\n",
    "ln_physical_parameter = (ln_sensor_reading - intercept) / slope  #solved as inverse of linear equation\n",
    "ln_x = np.log(x)\n",
    "ln_y = np.log(y)\n",
    "ln_results = prediction_limits(ln_x,ln_y,intercept,slope,1,ln_physical_parameter,.05)\n",
    "[lower,best,upper] = np.exp(ln_results)\n",
    "print(f'For the case where a sensor 1/R is {sensor_reading}, the corresponding range for the physical parameter is:')\n",
    "print(f'Lower Limit = {lower:.0f}, Best Estimate = {best:.0f}, Upper Limit = {upper:.0f}')"
   ]
  },
  {
   "cell_type": "markdown",
   "id": "25bb0f6c",
   "metadata": {},
   "source": [
    "Note that the because of the log-transformation (or more precisely--the anti-log), the difference between best estimate and the lower and upper limits is no longer precisely constant. Also note that the range between the two prediction limits as a percentage of the best estimate is similar to the error we previously computed in example 1."
   ]
  },
  {
   "cell_type": "code",
   "execution_count": 27,
   "id": "7307e486",
   "metadata": {},
   "outputs": [
    {
     "name": "stdout",
     "output_type": "stream",
     "text": [
      "Lower limit is 9.6 % below best estimate.\n",
      "Upper limit is 10.6 % above best estimate.\n"
     ]
    }
   ],
   "source": [
    "lower_as_percent = 100*(best-lower)/best \n",
    "upper_as_percent = 100*(upper-best)/best\n",
    "print(f'Lower limit is {lower_as_percent:.1f} % below best estimate.')\n",
    "print(f'Upper limit is {upper_as_percent:.1f} % above best estimate.')"
   ]
  },
  {
   "cell_type": "markdown",
   "id": "000f1191",
   "metadata": {},
   "source": [
    "Given these results, we can say that the results from this calibration exercise imply that for a relatively wide range of electrical conducitivities, this sensor would provide results that are good to approximately $\\pm$ 10% of the sensor reading."
   ]
  },
  {
   "cell_type": "code",
   "execution_count": null,
   "id": "feffa582-f0e2-4de4-85d9-b65dcbce5573",
   "metadata": {},
   "outputs": [],
   "source": []
  }
 ],
 "metadata": {
  "kernelspec": {
   "display_name": "Python 3 (ipykernel)",
   "language": "python",
   "name": "python3"
  },
  "language_info": {
   "codemirror_mode": {
    "name": "ipython",
    "version": 3
   },
   "file_extension": ".py",
   "mimetype": "text/x-python",
   "name": "python",
   "nbconvert_exporter": "python",
   "pygments_lexer": "ipython3",
   "version": "3.12.7"
  }
 },
 "nbformat": 4,
 "nbformat_minor": 5
}
