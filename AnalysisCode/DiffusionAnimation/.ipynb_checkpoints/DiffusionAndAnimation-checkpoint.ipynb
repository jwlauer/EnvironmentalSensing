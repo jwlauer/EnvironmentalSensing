{
 "cells": [
  {
   "cell_type": "markdown",
   "id": "9549fddf",
   "metadata": {},
   "source": [
    "# Demonstration of Animated Graph In the Context of Heat Diffusion\n",
    "This exercise demonstrates how one can compute 1-dimensional heat flux through conduction and how this leads to the \"diffusion\" of heat discontinuities.\n",
    "\n",
    "## Numerical computations\n",
    "The first part of the exercise performs all the computations. \n",
    "### Import Numpy Library"
   ]
  },
  {
   "cell_type": "code",
   "execution_count": null,
   "id": "e22b22d9",
   "metadata": {},
   "outputs": [],
   "source": [
    "import numpy as np"
   ]
  },
  {
   "cell_type": "markdown",
   "id": "7be403da",
   "metadata": {},
   "source": [
    "### Set parameters\n",
    "Here the main constants and physical parameters used in the solution are specified."
   ]
  },
  {
   "cell_type": "code",
   "execution_count": null,
   "id": "c1443243",
   "metadata": {},
   "outputs": [],
   "source": [
    "dx = 0.05    #length of spatial step\n",
    "L = 2        #length of bar in meters\n",
    "dt = 10       #seconds\n",
    "tmax = 4000   #seconds\n",
    "k = 100       #J/s/m/K\n",
    "c = 1000      #J/kg/K\n",
    "rho = 2000   #density, kg/m3\n",
    "kappa = k/(c*rho) #diffusion coef"
   ]
  },
  {
   "cell_type": "markdown",
   "id": "4dee02df",
   "metadata": {},
   "source": [
    "### Specify initial and boundary conditions\n",
    "\n",
    "The temperature at either end of the bar and across the entire bar at the beginning of the computation must be set before the solution can be computed."
   ]
  },
  {
   "cell_type": "code",
   "execution_count": null,
   "id": "e4f23ea4",
   "metadata": {},
   "outputs": [],
   "source": [
    "T0 = 50      #initial condition, degrees C\n",
    "Tleft = 100    #left boundary, degrees C\n",
    "Tright = 0 #right boundary, degrees C"
   ]
  },
  {
   "cell_type": "markdown",
   "id": "a445a743",
   "metadata": {},
   "source": [
    "### Define and initialize grid\n",
    "The values of x at which computations occur are set up using the spatial step dx that we set previously.  We also set up times when we will perform the computation using the dt we set previously."
   ]
  },
  {
   "cell_type": "code",
   "execution_count": null,
   "id": "670a00be",
   "metadata": {},
   "outputs": [],
   "source": [
    "x = np.arange(0,L+dx,dx)\n",
    "t = np.arange(0,tmax+dt,dt)"
   ]
  },
  {
   "cell_type": "markdown",
   "id": "fec8f1ec",
   "metadata": {},
   "source": [
    "We will also need ot know the maximum index for the columns (i.e, the number of x values where we do computations) and the maximum index for the number of rows (i.e., the number of timesteps where we do computations)."
   ]
  },
  {
   "cell_type": "code",
   "execution_count": null,
   "id": "d9f80fdc",
   "metadata": {},
   "outputs": [],
   "source": [
    "rowmax = int(tmax/dt)\n",
    "columnmax = int(L/dx)"
   ]
  },
  {
   "cell_type": "markdown",
   "id": "8d71ab31",
   "metadata": {},
   "source": [
    "Create an array of empty temperature values.  Here, we'll just set up an array of \"1s\" using a command in numpy defined for this purpose."
   ]
  },
  {
   "cell_type": "code",
   "execution_count": null,
   "id": "c5e60b88",
   "metadata": {},
   "outputs": [],
   "source": [
    "T=np.ones((rowmax+1,columnmax+1))"
   ]
  },
  {
   "cell_type": "markdown",
   "id": "8a288d96",
   "metadata": {},
   "source": [
    "Set initial conditions.  Here, the temperature is now re-set to the initial value we set when we defined parameters."
   ]
  },
  {
   "cell_type": "code",
   "execution_count": null,
   "id": "2ed5d245",
   "metadata": {},
   "outputs": [],
   "source": [
    "T[0,...]=T0"
   ]
  },
  {
   "cell_type": "markdown",
   "id": "74933626",
   "metadata": {},
   "source": [
    "Set boundary conditions.  Here, we have two boundaries, one on the left said and one on the right.  We set these given the parameters that were entered previously."
   ]
  },
  {
   "cell_type": "code",
   "execution_count": null,
   "id": "9ea5f754",
   "metadata": {},
   "outputs": [],
   "source": [
    "T[...,0] = Tleft\n",
    "T[...,columnmax] = Tright"
   ]
  },
  {
   "cell_type": "markdown",
   "id": "f35667f3",
   "metadata": {},
   "source": [
    "### Perform computations  \n",
    "Here, we recursively compute the value for temperature T for all non-boundary and non-initial value cells in the table. The iteration occurs in a loop that eventually runs through every cell for which a computation is needed."
   ]
  },
  {
   "cell_type": "code",
   "execution_count": null,
   "id": "5c7d0363",
   "metadata": {},
   "outputs": [],
   "source": [
    "#start at row 0 and go to the last row\n",
    "for i in range(0,rowmax):   \n",
    "    #start at column 1 and go to the last column\n",
    "    for m in range(1,columnmax):  \n",
    "        T[i+1,m]=T[i,m]+ kappa * dt/dx**2*(T[i,m+1]-2*T[i,m]+T[i,m-1])\n"
   ]
  },
  {
   "cell_type": "markdown",
   "id": "02301b08",
   "metadata": {},
   "source": [
    "## Graph the results\n",
    "Now that computations are complete, we have a two-dimensional array with all the results we need.  All that is left is to graph them.\n",
    "### Import graphing libraries"
   ]
  },
  {
   "cell_type": "code",
   "execution_count": null,
   "id": "88e5445d",
   "metadata": {},
   "outputs": [],
   "source": [
    "import matplotlib.pyplot as plt\n",
    "from matplotlib.animation import FuncAnimation, PillowWriter"
   ]
  },
  {
   "cell_type": "markdown",
   "id": "d92f7e57",
   "metadata": {},
   "source": [
    "### Create plot of T vs t at x = 95, 50, and 5 cm"
   ]
  },
  {
   "cell_type": "code",
   "execution_count": null,
   "id": "d180d7cb",
   "metadata": {},
   "outputs": [],
   "source": [
    "fig1 = plt.figure()\n",
    "subfig = fig1.add_subplot(1, 1, 1)\n",
    "line, = subfig.plot(t,T[:,19],label='95 cm')\n",
    "line2, = subfig.plot(t,T[:,10],label='50 cm')\n",
    "line3, = subfig.plot(t,T[:,1],label='5 cm')\n",
    "subfig.legend()\n",
    "plt.ylabel('Temperature (°C)')\n",
    "plt.xlabel('Time (s)')"
   ]
  },
  {
   "cell_type": "markdown",
   "id": "25cecc59",
   "metadata": {},
   "source": [
    "### Create plot of T vs x at t = 5, 10, 30, and 60 minutes"
   ]
  },
  {
   "cell_type": "code",
   "execution_count": null,
   "id": "f586cc8c",
   "metadata": {},
   "outputs": [],
   "source": [
    "#Create plot of T vs x at t = 5, 10, 30, and 60 minutes\n",
    "fig2 = plt.figure()\n",
    "subfig = fig2.add_subplot(1, 1, 1)\n",
    "line, = subfig.plot(x,T[int(5*60/dt),:],label='5 min')\n",
    "line2, = subfig.plot(x,T[int(10*60/dt),:],label='10 min')\n",
    "line3, = subfig.plot(x,T[int(30*60/dt),:],label='30 min')\n",
    "line4, = subfig.plot(x,T[int(60*60/dt),:],label='60 min')\n",
    "subfig.legend()\n",
    "plt.ylabel('Temperature (°C)')\n",
    "plt.xlabel('x (m)')"
   ]
  },
  {
   "cell_type": "markdown",
   "id": "3bfd4123",
   "metadata": {},
   "source": [
    "### Compare with observed data\n",
    "Here, to illustrate the process, we import data from a textfile and then add that to the previous graph. We also add a label to these data points indicating they were supposed to have been measured at t=10 minutes. Note that the x values that are added here would need to have been measured when the experiment was performed.  The x values represent all points where temperatures were measured."
   ]
  },
  {
   "cell_type": "code",
   "execution_count": null,
   "id": "790fc2bb",
   "metadata": {},
   "outputs": [],
   "source": [
    "#import data \n",
    "ObservedT = np.genfromtxt('instructor.txt', delimiter=',', skip_header=1)\n",
    "#define x values\n",
    "x_instructor = np.array([0.05, 0.2,0.4, 0.6, 0.8, 0.95])\n",
    "line5, = subfig.plot(x_instructor, ObservedT[62,1:7],'o', label = 'observed @ 10 min')\n",
    "subfig.legend()\n",
    "fig2"
   ]
  },
  {
   "cell_type": "markdown",
   "id": "573672d9",
   "metadata": {},
   "source": [
    "### Create an animation\n",
    "The animation requires the generation of a figure that gets saved to the animation at regular intervals."
   ]
  },
  {
   "cell_type": "markdown",
   "id": "5927b596",
   "metadata": {},
   "source": [
    "Start the backend that allows for external graphs. The animation will not be visible in the notebook."
   ]
  },
  {
   "cell_type": "code",
   "execution_count": null,
   "id": "7aa77128",
   "metadata": {},
   "outputs": [],
   "source": [
    "%matplotlib notebook \n",
    "#%matplotlib auto\n",
    "#%matplotlib nbagg"
   ]
  },
  {
   "cell_type": "markdown",
   "id": "8ad16ba6",
   "metadata": {},
   "source": [
    "Create and format the figure that will be animated. This performs all work on the initial condition.\n",
    "\n",
    "Note that if we want to later be  able to animate the plot, we have to create a handle for the object on the graph that will change.  In this case, that is the blue line on the graph, which technically is an object created by the matplotlib ax.plot() function. Here, we have created a variable called \"line\" that stores this object and allows us to access it later.  "
   ]
  },
  {
   "cell_type": "code",
   "execution_count": null,
   "id": "fb2a6379",
   "metadata": {},
   "outputs": [],
   "source": [
    "fig3 = plt.figure()\n",
    "subfig = fig3.add_subplot(1, 1, 1)\n",
    "line, = subfig.plot(x,T[0,:])\n",
    "subfig.set_ylabel('Temperature (°C)')\n",
    "subfig.set_xlabel('distance (m)')\n",
    "#fig3.tight_layout()\n",
    "#fig3.set_size_inches(4,3)"
   ]
  },
  {
   "cell_type": "markdown",
   "id": "09a9a1e0",
   "metadata": {},
   "source": [
    "#### Pad output array\n",
    "\n",
    "In order to have a nice animation, we want the animation to stay still at the beginning and end while the viewer gets oriented to the figure. In theory, there is an argument in the Matplotlib animation library for pausing, but it does not render appropriately.  So, a work around is to pad the input array with a number of constant rows at the beginning and end.  We also pad the time array with time 0 at the beginning and the maximum simulation time a the ned.  Here, we'll add 50 rows representing the initial conditions to at the start of our temperature array, and 50 rows of final conditions at the end."
   ]
  },
  {
   "cell_type": "code",
   "execution_count": null,
   "id": "396c3964",
   "metadata": {},
   "outputs": [],
   "source": [
    "T = np.pad(T,((50,50),(0,0)),'edge')\n",
    "t = np.pad(t,50,'edge')"
   ]
  },
  {
   "cell_type": "markdown",
   "id": "bfa0e510",
   "metadata": {},
   "source": [
    "#### Set up animation\n",
    "Now we are ready to actually change the properties of the graph within a loop and save each graph to the animation.\n",
    "\n",
    "To do this, we create a function that will update the figure at regular intervals. In the function, we will update the y property of the line object that we previously defined in our graph. Updating these values will cause the line to change its position on the chart.  We also update the title so that we will be able to track the time into the simulation.  \n",
    "\n",
    "We are doing this concisely by creating a function that updates the line to its correct position as a function of the index i (which is what we use to keep track of which frame we are on), the x values of the line (acutally not used here, but included to make it simpler to modify the function later if you wish to pass different sets of x- and y- values for each frame), the temperature array T (used to set the y values--we have a set of T values for each index i), and the time in the simulation (used in the title). The function has to return the line object, which gets re-rendered in the figure by the animation tool for each step in the animation loop.\n",
    "\n",
    "We then create the animation object (called \"ani\" here) using a special function that is part of matplotlibs \"FuncAnimation\" library. We tell it that we want our animation to apply to our \"fig3\" object. We also pass the function that updates the things in the figure that we want to change for each frame number (with index i), and we also pass the variables we would need in order to make the plot (so function arguments fargs x, T, and t--although we don't use x here). We then set several parameters needed by the animation function. Here, we pass the time interval between frames (milliseconds), a flag specifying whether the animation repeats when done, the total number of steps to include in the animation, the delay (milliseconds) after an animation is done before repeating, and a flag (blit) to tell the system not to re-write parts of the figure that are not changing.\n",
    "\n"
   ]
  },
  {
   "cell_type": "code",
   "execution_count": null,
   "id": "03f8c3ac",
   "metadata": {},
   "outputs": [],
   "source": [
    "# This function is called periodically from FuncAnimation\n",
    "def animate(i, x, T, t):\n",
    "    #line.set_xdata(x) #not needed here, but included to make function easier to modify\n",
    "    line.set_ydata(T[i,:]) #update data in plot using index i\n",
    "    plt.title(f'Time = {t[i]:.2f} seconds') # Format Title  with time in it\n",
    "    return line, #it is necessary to return this\n",
    "\n",
    "# Set up plot to call animate() function periodically\n",
    "ani = FuncAnimation(fig3, animate, fargs=(x, T, t), \n",
    "                    interval=20, \n",
    "                    repeat=True, \n",
    "                    save_count=len(t)-1, \n",
    "                    #repeat_delay=2000, #does not work with PillowWriter\n",
    "                    blit=True \n",
    "                    )\n",
    "plt.show()"
   ]
  },
  {
   "cell_type": "markdown",
   "id": "2e5e0090",
   "metadata": {},
   "source": [
    "#### Save the file\n",
    "Specify location of animation tool and where the animation will be saved."
   ]
  },
  {
   "cell_type": "code",
   "execution_count": null,
   "id": "730e8a26",
   "metadata": {
    "scrolled": true
   },
   "outputs": [],
   "source": [
    "ani.save('animation.gif', writer=PillowWriter(fps=24))"
   ]
  },
  {
   "cell_type": "markdown",
   "id": "9f2f1e90",
   "metadata": {},
   "source": [
    "The animation that is produced should now be saved in the project folder. The file is ready to be embedded in whatever document you like. If it works, it should look like the following:\n",
    "\n",
    "<img src=\"animation.gif\" width=\"500\" align=\"left\">\n",
    "\n",
    "\n"
   ]
  },
  {
   "cell_type": "markdown",
   "id": "cfe88388",
   "metadata": {},
   "source": [
    "#### Add controllable animation to notebook\n",
    "For use in the notebook, it can be nice to provide users with alternate controls.  This can be accomplished by changing a setting in the Jupyter notebook, then calling the animation again."
   ]
  },
  {
   "cell_type": "code",
   "execution_count": null,
   "id": "1e726cd4",
   "metadata": {},
   "outputs": [],
   "source": [
    "plt.rcParams['animation.html'] = 'jshtml'\n",
    "ani\n"
   ]
  },
  {
   "cell_type": "code",
   "execution_count": null,
   "id": "7a473ce2",
   "metadata": {},
   "outputs": [],
   "source": []
  }
 ],
 "metadata": {
  "kernelspec": {
   "display_name": "Python 3 (ipykernel)",
   "language": "python",
   "name": "python3"
  },
  "language_info": {
   "codemirror_mode": {
    "name": "ipython",
    "version": 3
   },
   "file_extension": ".py",
   "mimetype": "text/x-python",
   "name": "python",
   "nbconvert_exporter": "python",
   "pygments_lexer": "ipython3",
   "version": "3.12.7"
  }
 },
 "nbformat": 4,
 "nbformat_minor": 5
}
