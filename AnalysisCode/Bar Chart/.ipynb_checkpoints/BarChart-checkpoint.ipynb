{
 "cells": [
  {
   "cell_type": "markdown",
   "id": "b1f84dba",
   "metadata": {},
   "source": [
    "## Example Bar Charts with Error Bars"
   ]
  },
  {
   "cell_type": "markdown",
   "id": "d954d46f",
   "metadata": {},
   "source": [
    "### Import necessary libraries\n",
    "We'll use the numpy library in order to generate random numbers.  Pandas is used for everything else except graphing."
   ]
  },
  {
   "cell_type": "code",
   "execution_count": 9,
   "id": "7449c32c",
   "metadata": {},
   "outputs": [],
   "source": [
    "import matplotlib.pyplot as plt\n",
    "import numpy as np\n",
    "import pandas as pd\n",
    "from IPython.display import display"
   ]
  },
  {
   "cell_type": "markdown",
   "id": "2c07ce68",
   "metadata": {},
   "source": [
    "### Create some random data\n",
    "This may represent error data you wish to analyze. Here, we generate 50 random numbers and store them in two separate Pandas dataframes."
   ]
  },
  {
   "cell_type": "code",
   "execution_count": 10,
   "id": "72d66e03",
   "metadata": {},
   "outputs": [],
   "source": [
    "y1 = pd.Series(6+3*np.random.randn(50),name='y1')\n",
    "y2 = pd.Series(4+1*np.random.randn(50),name='y2')\n"
   ]
  },
  {
   "cell_type": "markdown",
   "id": "a527437e",
   "metadata": {},
   "source": [
    "### Merge the dataframes to make access easier"
   ]
  },
  {
   "cell_type": "code",
   "execution_count": 11,
   "id": "f70766ef",
   "metadata": {},
   "outputs": [
    {
     "data": {
      "text/html": [
       "<div>\n",
       "<style scoped>\n",
       "    .dataframe tbody tr th:only-of-type {\n",
       "        vertical-align: middle;\n",
       "    }\n",
       "\n",
       "    .dataframe tbody tr th {\n",
       "        vertical-align: top;\n",
       "    }\n",
       "\n",
       "    .dataframe thead th {\n",
       "        text-align: right;\n",
       "    }\n",
       "</style>\n",
       "<table border=\"1\" class=\"dataframe\">\n",
       "  <thead>\n",
       "    <tr style=\"text-align: right;\">\n",
       "      <th></th>\n",
       "      <th>y1</th>\n",
       "      <th>y2</th>\n",
       "    </tr>\n",
       "  </thead>\n",
       "  <tbody>\n",
       "    <tr>\n",
       "      <th>0</th>\n",
       "      <td>3.190852</td>\n",
       "      <td>4.711962</td>\n",
       "    </tr>\n",
       "    <tr>\n",
       "      <th>1</th>\n",
       "      <td>4.712074</td>\n",
       "      <td>4.406407</td>\n",
       "    </tr>\n",
       "    <tr>\n",
       "      <th>2</th>\n",
       "      <td>7.091743</td>\n",
       "      <td>3.257585</td>\n",
       "    </tr>\n",
       "    <tr>\n",
       "      <th>3</th>\n",
       "      <td>11.413621</td>\n",
       "      <td>5.074529</td>\n",
       "    </tr>\n",
       "    <tr>\n",
       "      <th>4</th>\n",
       "      <td>9.803010</td>\n",
       "      <td>3.910250</td>\n",
       "    </tr>\n",
       "    <tr>\n",
       "      <th>5</th>\n",
       "      <td>5.805366</td>\n",
       "      <td>4.035235</td>\n",
       "    </tr>\n",
       "    <tr>\n",
       "      <th>6</th>\n",
       "      <td>9.679951</td>\n",
       "      <td>3.454393</td>\n",
       "    </tr>\n",
       "    <tr>\n",
       "      <th>7</th>\n",
       "      <td>7.413672</td>\n",
       "      <td>4.232680</td>\n",
       "    </tr>\n",
       "    <tr>\n",
       "      <th>8</th>\n",
       "      <td>8.800519</td>\n",
       "      <td>4.687416</td>\n",
       "    </tr>\n",
       "    <tr>\n",
       "      <th>9</th>\n",
       "      <td>-0.496800</td>\n",
       "      <td>3.069739</td>\n",
       "    </tr>\n",
       "    <tr>\n",
       "      <th>10</th>\n",
       "      <td>0.404066</td>\n",
       "      <td>4.761805</td>\n",
       "    </tr>\n",
       "    <tr>\n",
       "      <th>11</th>\n",
       "      <td>2.840308</td>\n",
       "      <td>5.370151</td>\n",
       "    </tr>\n",
       "    <tr>\n",
       "      <th>12</th>\n",
       "      <td>7.288494</td>\n",
       "      <td>4.131196</td>\n",
       "    </tr>\n",
       "    <tr>\n",
       "      <th>13</th>\n",
       "      <td>0.838131</td>\n",
       "      <td>3.615790</td>\n",
       "    </tr>\n",
       "    <tr>\n",
       "      <th>14</th>\n",
       "      <td>2.195021</td>\n",
       "      <td>4.832966</td>\n",
       "    </tr>\n",
       "    <tr>\n",
       "      <th>15</th>\n",
       "      <td>6.781058</td>\n",
       "      <td>5.354499</td>\n",
       "    </tr>\n",
       "    <tr>\n",
       "      <th>16</th>\n",
       "      <td>1.971291</td>\n",
       "      <td>4.933938</td>\n",
       "    </tr>\n",
       "    <tr>\n",
       "      <th>17</th>\n",
       "      <td>8.149045</td>\n",
       "      <td>3.576060</td>\n",
       "    </tr>\n",
       "    <tr>\n",
       "      <th>18</th>\n",
       "      <td>6.603840</td>\n",
       "      <td>3.861868</td>\n",
       "    </tr>\n",
       "    <tr>\n",
       "      <th>19</th>\n",
       "      <td>3.422448</td>\n",
       "      <td>4.143029</td>\n",
       "    </tr>\n",
       "    <tr>\n",
       "      <th>20</th>\n",
       "      <td>3.813954</td>\n",
       "      <td>4.464270</td>\n",
       "    </tr>\n",
       "    <tr>\n",
       "      <th>21</th>\n",
       "      <td>7.699940</td>\n",
       "      <td>4.503346</td>\n",
       "    </tr>\n",
       "    <tr>\n",
       "      <th>22</th>\n",
       "      <td>2.560835</td>\n",
       "      <td>6.253469</td>\n",
       "    </tr>\n",
       "    <tr>\n",
       "      <th>23</th>\n",
       "      <td>3.604220</td>\n",
       "      <td>3.124276</td>\n",
       "    </tr>\n",
       "    <tr>\n",
       "      <th>24</th>\n",
       "      <td>0.641646</td>\n",
       "      <td>1.580883</td>\n",
       "    </tr>\n",
       "    <tr>\n",
       "      <th>25</th>\n",
       "      <td>4.167313</td>\n",
       "      <td>4.680727</td>\n",
       "    </tr>\n",
       "    <tr>\n",
       "      <th>26</th>\n",
       "      <td>2.948876</td>\n",
       "      <td>3.028367</td>\n",
       "    </tr>\n",
       "    <tr>\n",
       "      <th>27</th>\n",
       "      <td>10.385453</td>\n",
       "      <td>3.062881</td>\n",
       "    </tr>\n",
       "    <tr>\n",
       "      <th>28</th>\n",
       "      <td>3.062678</td>\n",
       "      <td>5.346991</td>\n",
       "    </tr>\n",
       "    <tr>\n",
       "      <th>29</th>\n",
       "      <td>7.536333</td>\n",
       "      <td>3.039624</td>\n",
       "    </tr>\n",
       "    <tr>\n",
       "      <th>30</th>\n",
       "      <td>4.569806</td>\n",
       "      <td>3.223169</td>\n",
       "    </tr>\n",
       "    <tr>\n",
       "      <th>31</th>\n",
       "      <td>7.718179</td>\n",
       "      <td>3.310127</td>\n",
       "    </tr>\n",
       "    <tr>\n",
       "      <th>32</th>\n",
       "      <td>-0.694137</td>\n",
       "      <td>5.614728</td>\n",
       "    </tr>\n",
       "    <tr>\n",
       "      <th>33</th>\n",
       "      <td>10.234304</td>\n",
       "      <td>4.353133</td>\n",
       "    </tr>\n",
       "    <tr>\n",
       "      <th>34</th>\n",
       "      <td>6.866124</td>\n",
       "      <td>4.575289</td>\n",
       "    </tr>\n",
       "    <tr>\n",
       "      <th>35</th>\n",
       "      <td>5.100231</td>\n",
       "      <td>3.960009</td>\n",
       "    </tr>\n",
       "    <tr>\n",
       "      <th>36</th>\n",
       "      <td>14.410748</td>\n",
       "      <td>4.289127</td>\n",
       "    </tr>\n",
       "    <tr>\n",
       "      <th>37</th>\n",
       "      <td>8.642848</td>\n",
       "      <td>5.076318</td>\n",
       "    </tr>\n",
       "    <tr>\n",
       "      <th>38</th>\n",
       "      <td>4.922151</td>\n",
       "      <td>3.178044</td>\n",
       "    </tr>\n",
       "    <tr>\n",
       "      <th>39</th>\n",
       "      <td>3.224501</td>\n",
       "      <td>3.632121</td>\n",
       "    </tr>\n",
       "    <tr>\n",
       "      <th>40</th>\n",
       "      <td>5.767446</td>\n",
       "      <td>5.478679</td>\n",
       "    </tr>\n",
       "    <tr>\n",
       "      <th>41</th>\n",
       "      <td>3.454733</td>\n",
       "      <td>4.923972</td>\n",
       "    </tr>\n",
       "    <tr>\n",
       "      <th>42</th>\n",
       "      <td>3.915708</td>\n",
       "      <td>3.526548</td>\n",
       "    </tr>\n",
       "    <tr>\n",
       "      <th>43</th>\n",
       "      <td>0.679823</td>\n",
       "      <td>3.316289</td>\n",
       "    </tr>\n",
       "    <tr>\n",
       "      <th>44</th>\n",
       "      <td>10.700136</td>\n",
       "      <td>3.890236</td>\n",
       "    </tr>\n",
       "    <tr>\n",
       "      <th>45</th>\n",
       "      <td>4.144338</td>\n",
       "      <td>3.792017</td>\n",
       "    </tr>\n",
       "    <tr>\n",
       "      <th>46</th>\n",
       "      <td>0.390308</td>\n",
       "      <td>4.224382</td>\n",
       "    </tr>\n",
       "    <tr>\n",
       "      <th>47</th>\n",
       "      <td>8.847000</td>\n",
       "      <td>3.314977</td>\n",
       "    </tr>\n",
       "    <tr>\n",
       "      <th>48</th>\n",
       "      <td>8.396098</td>\n",
       "      <td>4.410676</td>\n",
       "    </tr>\n",
       "    <tr>\n",
       "      <th>49</th>\n",
       "      <td>1.736138</td>\n",
       "      <td>4.474129</td>\n",
       "    </tr>\n",
       "  </tbody>\n",
       "</table>\n",
       "</div>"
      ],
      "text/plain": [
       "           y1        y2\n",
       "0    3.190852  4.711962\n",
       "1    4.712074  4.406407\n",
       "2    7.091743  3.257585\n",
       "3   11.413621  5.074529\n",
       "4    9.803010  3.910250\n",
       "5    5.805366  4.035235\n",
       "6    9.679951  3.454393\n",
       "7    7.413672  4.232680\n",
       "8    8.800519  4.687416\n",
       "9   -0.496800  3.069739\n",
       "10   0.404066  4.761805\n",
       "11   2.840308  5.370151\n",
       "12   7.288494  4.131196\n",
       "13   0.838131  3.615790\n",
       "14   2.195021  4.832966\n",
       "15   6.781058  5.354499\n",
       "16   1.971291  4.933938\n",
       "17   8.149045  3.576060\n",
       "18   6.603840  3.861868\n",
       "19   3.422448  4.143029\n",
       "20   3.813954  4.464270\n",
       "21   7.699940  4.503346\n",
       "22   2.560835  6.253469\n",
       "23   3.604220  3.124276\n",
       "24   0.641646  1.580883\n",
       "25   4.167313  4.680727\n",
       "26   2.948876  3.028367\n",
       "27  10.385453  3.062881\n",
       "28   3.062678  5.346991\n",
       "29   7.536333  3.039624\n",
       "30   4.569806  3.223169\n",
       "31   7.718179  3.310127\n",
       "32  -0.694137  5.614728\n",
       "33  10.234304  4.353133\n",
       "34   6.866124  4.575289\n",
       "35   5.100231  3.960009\n",
       "36  14.410748  4.289127\n",
       "37   8.642848  5.076318\n",
       "38   4.922151  3.178044\n",
       "39   3.224501  3.632121\n",
       "40   5.767446  5.478679\n",
       "41   3.454733  4.923972\n",
       "42   3.915708  3.526548\n",
       "43   0.679823  3.316289\n",
       "44  10.700136  3.890236\n",
       "45   4.144338  3.792017\n",
       "46   0.390308  4.224382\n",
       "47   8.847000  3.314977\n",
       "48   8.396098  4.410676\n",
       "49   1.736138  4.474129"
      ]
     },
     "metadata": {},
     "output_type": "display_data"
    }
   ],
   "source": [
    "df = pd.concat([y1,y2], axis=1)\n",
    "display(df)"
   ]
  },
  {
   "cell_type": "markdown",
   "id": "0f78d489",
   "metadata": {},
   "source": [
    "### Create new Pandas dataframes for jus the mean and standard deviations"
   ]
  },
  {
   "cell_type": "code",
   "execution_count": 12,
   "id": "f65ad3df",
   "metadata": {},
   "outputs": [],
   "source": [
    "means = df.mean()\n",
    "stds = df.std()"
   ]
  },
  {
   "cell_type": "markdown",
   "id": "9a9057eb",
   "metadata": {},
   "source": [
    "### Graph the data\n",
    "Here, we create a new axis using the matplotlib plt.subplots() command, then fill this in using the bar plot function.  The mean values of each dataset are plotted as the bar height, and the error bars are from the standard deviations."
   ]
  },
  {
   "cell_type": "code",
   "execution_count": 13,
   "id": "80687aef",
   "metadata": {},
   "outputs": [
    {
     "data": {
      "text/plain": [
       "Text(0, 0.5, 'value')"
      ]
     },
     "execution_count": 13,
     "metadata": {},
     "output_type": "execute_result"
    },
    {
     "data": {
      "image/png": "[encoded data removed]",
      "text/plain": [
       "<Figure size 432x288 with 1 Axes>"
      ]
     },
     "metadata": {
      "needs_background": "light"
     },
     "output_type": "display_data"
    }
   ],
   "source": [
    "fig1,ax1 = plt.subplots()\n",
    "#plot using Pandas, with errorbars specified using yerr\n",
    "ax1 = means.plot(kind='bar',yerr=stds, capsize = 7)\n",
    "ax1.set_ylabel('value')"
   ]
  },
  {
   "cell_type": "markdown",
   "id": "58470dbc",
   "metadata": {},
   "source": [
    "### Create Violin Plots"
   ]
  },
  {
   "cell_type": "code",
   "execution_count": 40,
   "id": "d619d14d",
   "metadata": {},
   "outputs": [
    {
     "data": {
      "text/plain": [
       "Text(0, 0.5, 'value')"
      ]
     },
     "execution_count": 40,
     "metadata": {},
     "output_type": "execute_result"
    },
    {
     "data": {
      "image/png": "[encoded data removed]",
      "text/plain": [
       "<Figure size 432x288 with 1 Axes>"
      ]
     },
     "metadata": {
      "needs_background": "light"
     },
     "output_type": "display_data"
    }
   ],
   "source": [
    "fig2,ax2 = plt.subplots()\n",
    "#plot using Pandas, with errorbars specified using yerr\n",
    "ax2.violinplot(dataset = (df), showmeans = True)\n",
    "ax2.set_xticks([1,2])\n",
    "ax2.set_ylabel('value')\n"
   ]
  },
  {
   "cell_type": "code",
   "execution_count": null,
   "id": "2b03140e",
   "metadata": {},
   "outputs": [],
   "source": []
  }
 ],
 "metadata": {
  "kernelspec": {
   "display_name": "Python 3 (ipykernel)",
   "language": "python",
   "name": "python3"
  },
  "language_info": {
   "codemirror_mode": {
    "name": "ipython",
    "version": 3
   },
   "file_extension": ".py",
   "mimetype": "text/x-python",
   "name": "python",
   "nbconvert_exporter": "python",
   "pygments_lexer": "ipython3",
   "version": "3.9.7"
  }
 },
 "nbformat": 4,
 "nbformat_minor": 5
}
