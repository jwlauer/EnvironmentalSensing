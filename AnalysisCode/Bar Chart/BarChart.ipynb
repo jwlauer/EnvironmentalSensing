{
 "cells": [
  {
   "cell_type": "markdown",
   "id": "b1f84dba",
   "metadata": {},
   "source": [
    "## Example Bar Charts with Error Bars"
   ]
  },
  {
   "cell_type": "markdown",
   "id": "d954d46f",
   "metadata": {},
   "source": [
    "### Import necessary libraries\n",
    "We'll use the numpy library in order to generate random numbers.  Pandas is used for everything else except graphing."
   ]
  },
  {
   "cell_type": "code",
   "execution_count": 1,
   "id": "7449c32c",
   "metadata": {},
   "outputs": [
    {
     "name": "stdout",
     "output_type": "stream",
     "text": [
      "Using matplotlib backend: TkAgg\n"
     ]
    },
    {
     "name": "stderr",
     "output_type": "stream",
     "text": [
      "C:\\Users\\WesLa\\anaconda3\\lib\\site-packages\\ipykernel\\eventloops.py:256: RuntimeWarning: coroutine 'Kernel.do_one_iteration' was never awaited\n",
      "  self.func()\n",
      "RuntimeWarning: Enable tracemalloc to get the object allocation traceback\n"
     ]
    }
   ],
   "source": [
    "import matplotlib.pyplot as plt\n",
    "import numpy as np\n",
    "import pandas as pd\n",
    "from IPython.display import display"
   ]
  },
  {
   "cell_type": "markdown",
   "id": "2c07ce68",
   "metadata": {},
   "source": [
    "### Create some random data\n",
    "This may represent error data you wish to analyze. Here, we generate 50 random numbers and store them in two separate Pandas dataframes."
   ]
  },
  {
   "cell_type": "code",
   "execution_count": null,
   "id": "72d66e03",
   "metadata": {},
   "outputs": [],
   "source": [
    "y1 = pd.Series(6+3*np.random.randn(50),name='y1')\n",
    "y2 = pd.Series(4+1*np.random.randn(50),name='y2')\n"
   ]
  },
  {
   "cell_type": "markdown",
   "id": "a527437e",
   "metadata": {},
   "source": [
    "### Merge the dataframes to make access easier"
   ]
  },
  {
   "cell_type": "code",
   "execution_count": null,
   "id": "f70766ef",
   "metadata": {},
   "outputs": [],
   "source": [
    "df = pd.concat([y1,y2], axis=1)\n",
    "display(df)"
   ]
  },
  {
   "cell_type": "markdown",
   "id": "0f78d489",
   "metadata": {},
   "source": [
    "### Create new Pandas dataframes for jus the mean and standard deviations"
   ]
  },
  {
   "cell_type": "code",
   "execution_count": null,
   "id": "f65ad3df",
   "metadata": {},
   "outputs": [],
   "source": [
    "means = df.mean()\n",
    "stds = df.std()"
   ]
  },
  {
   "cell_type": "markdown",
   "id": "9a9057eb",
   "metadata": {},
   "source": [
    "### Graph the data\n",
    "Here, we create a new axis using the matplotlib plt.subplots() command, then fill this in using the bar plot function.  The mean values of each dataset are plotted as the bar height, and the error bars are from the standard deviations."
   ]
  },
  {
   "cell_type": "code",
   "execution_count": null,
   "id": "80687aef",
   "metadata": {},
   "outputs": [],
   "source": [
    "fig1,ax1 = plt.subplots()\n",
    "#plot using Pandas, with errorbars specified using yerr\n",
    "ax1 = means.plot(kind='bar',yerr=stds, capsize = 7)\n",
    "ax1.set_ylabel('value')"
   ]
  },
  {
   "cell_type": "markdown",
   "id": "58470dbc",
   "metadata": {},
   "source": [
    "### Create Violin Plots"
   ]
  },
  {
   "cell_type": "code",
   "execution_count": null,
   "id": "d619d14d",
   "metadata": {},
   "outputs": [],
   "source": [
    "fig2,ax2 = plt.subplots()\n",
    "#plot using Pandas, with errorbars specified using yerr\n",
    "ax2.violinplot(dataset = (df), showmeans = True)\n",
    "ax2.set_xticks([1,2])\n",
    "ax2.set_ylabel('value')\n"
   ]
  },
  {
   "cell_type": "code",
   "execution_count": null,
   "id": "2b03140e",
   "metadata": {},
   "outputs": [],
   "source": []
  }
 ],
 "metadata": {
  "kernelspec": {
   "display_name": "Python 3 (ipykernel)",
   "language": "python",
   "name": "python3"
  },
  "language_info": {
   "codemirror_mode": {
    "name": "ipython",
    "version": 3
   },
   "file_extension": ".py",
   "mimetype": "text/x-python",
   "name": "python",
   "nbconvert_exporter": "python",
   "pygments_lexer": "ipython3",
   "version": "3.9.7"
  }
 },
 "nbformat": 4,
 "nbformat_minor": 5
}
