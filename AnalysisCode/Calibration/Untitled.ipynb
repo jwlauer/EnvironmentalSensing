{
 "cells": [
  {
   "cell_type": "markdown",
   "id": "a60c37ce",
   "metadata": {},
   "source": [
    "# Calibration Examples\n",
    "The computations in this notebook illustrate how one can perform a calibration between an observed sensor output and a known physical parameter. In this analysis, the variable \"x\" represents the sensor output, and the variable \"y\" represents the value of the parameter in known phsyical units. \n",
    "\n",
    "The examples are written in the context of a calibration between the sensor output 1/R and the physical parameter electrical conductivity. The notebook assumes that data describing the relationship betwen 1/R and EC are available at a range of different EC values.\n",
    "\n",
    "The notebook is organized into three sections. First, computations are performed to find the instrument's cell constant k, where EC = k/R. This can be computed from each data point in a straightforward way, and confidence limits on the cell constant can be developed using a simple t-test.  Next, regression is used to develop a relationship between EC and 1/R.  In this method, k represents the slope of the regression line.  Finally, analysis is performed on the logarithms of EC and 1/R, ultimately producing a power-function that describes the relationship between EC and 1/R.\n",
    "\n",
    "### Import Libraries\n",
    "All examples require the following libraries"
   ]
  },
  {
   "cell_type": "code",
   "execution_count": 1,
   "id": "fe6a3c21",
   "metadata": {},
   "outputs": [],
   "source": [
    "import pandas as pd\n",
    "from matplotlib import pyplot as plt\n",
    "import numpy as np\n",
    "from scipy.stats import t"
   ]
  },
  {
   "cell_type": "markdown",
   "id": "df5fee55",
   "metadata": {},
   "source": [
    "### Read the example dataset"
   ]
  },
  {
   "cell_type": "code",
   "execution_count": null,
   "id": "3e514767",
   "metadata": {},
   "outputs": [],
   "source": []
  }
 ],
 "metadata": {
  "kernelspec": {
   "display_name": "Python 3 (ipykernel)",
   "language": "python",
   "name": "python3"
  },
  "language_info": {
   "codemirror_mode": {
    "name": "ipython",
    "version": 3
   },
   "file_extension": ".py",
   "mimetype": "text/x-python",
   "name": "python",
   "nbconvert_exporter": "python",
   "pygments_lexer": "ipython3",
   "version": "3.9.7"
  }
 },
 "nbformat": 4,
 "nbformat_minor": 5
}
