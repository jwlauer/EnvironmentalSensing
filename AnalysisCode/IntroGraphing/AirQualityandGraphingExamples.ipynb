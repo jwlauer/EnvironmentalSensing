{
 "cells": [
  {
   "cell_type": "markdown",
   "id": "5d4f7661",
   "metadata": {},
   "source": [
    "# Introduction to Plotting in Python\n",
    "\n",
    "This notebook provides an introduction to creating graphs using the matplotlib library.  It also illustrates several ways of importing and organizing data.\n",
    "\n",
    "Perhaps the most basic way is to import data using the numpy library.  Here, data are read from a comma-delimited text file into a two-dimensional array. Individual columns from the array are then read into separate variables."
   ]
  },
  {
   "cell_type": "code",
   "execution_count": null,
   "id": "b4db91da",
   "metadata": {},
   "outputs": [],
   "source": [
    "import numpy as np\n",
    "data = np.genfromtxt(\"my_data.csv\", delimiter=\",\", skip_header=1)\n",
    "year = data[:,0]\n",
    "pm25 = data[:,1]\n",
    "print('Result is:')\n",
    "print(year, pm25)"
   ]
  },
  {
   "cell_type": "markdown",
   "id": "582dcd42",
   "metadata": {},
   "source": [
    "The same thing can be accomplished in perhaps a more intuitive way using the Pandas library."
   ]
  },
  {
   "cell_type": "code",
   "execution_count": null,
   "id": "3667bd75",
   "metadata": {},
   "outputs": [],
   "source": [
    "import pandas as pd\n",
    "df = pd.read_csv('my_data.csv')\n",
    "year = df['year']\n",
    "pm25 = df['pm2.5']\n",
    "print('Result (in slightly different format than above) is: ')\n",
    "print(year, pm25)"
   ]
  },
  {
   "cell_type": "markdown",
   "id": "ada72aed",
   "metadata": {},
   "source": [
    "Either of the above approaches work--only one is required. However, unless there is value in doing multi-dimensional analysis, Pandas is probably more powerful, but there are advantages to both libraries.  We will use both numpy and pandas later in this course.\n",
    "\n",
    "Pandas also almost allows you to cut and paste from MS Excel.  To accomplish this, copy the data you are interested in, then use the pd.read_clipboard() function."
   ]
  },
  {
   "cell_type": "code",
   "execution_count": null,
   "id": "625bd7ff",
   "metadata": {},
   "outputs": [],
   "source": [
    "pd.read_clipboard();"
   ]
  },
  {
   "cell_type": "markdown",
   "id": "a4979cf2",
   "metadata": {},
   "source": [
    "To view a variable, simply type that variable's name (or use print statemetns, as above). A semicolon at the end of a line suppresses output."
   ]
  },
  {
   "cell_type": "code",
   "execution_count": null,
   "id": "35430c8e",
   "metadata": {},
   "outputs": [],
   "source": [
    "pm25"
   ]
  },
  {
   "cell_type": "markdown",
   "id": "b54d718a",
   "metadata": {},
   "source": [
    "This displays a portion of the dataset--in Pandas, it's known as the head of the dataframe (i.e., the data table). Try repeating the above, but instead if displaying pm25, try data (a numpy array) or df (a full pandas dataframe).  Jupyter notebooks are particularly adept at making dataframes look nice.\n",
    "\n",
    "A plot can be created by importing the necessary library, then creating objects representing the figure and then any subfigures (the actual charts--figures can have more than one)."
   ]
  },
  {
   "cell_type": "code",
   "execution_count": null,
   "id": "39616685",
   "metadata": {},
   "outputs": [],
   "source": [
    "import matplotlib.pyplot as plt\n",
    "figure1, subfig = plt.subplots()"
   ]
  },
  {
   "cell_type": "markdown",
   "id": "d01f6d6d",
   "metadata": {},
   "source": [
    "We can add data to the plot using the .plot() method, then redisplay the figure by typing the name of the figure. In this example, the argument 'ro' indicates that we want to plot red points.  We will use the label later."
   ]
  },
  {
   "cell_type": "code",
   "execution_count": null,
   "id": "d4934931",
   "metadata": {},
   "outputs": [],
   "source": [
    "subfig.plot(year, pm25, 'ro', label = 'Point')\n",
    "figure1  #this works because we defined \"figure\" two lines ago"
   ]
  },
  {
   "cell_type": "markdown",
   "id": "78ee768b",
   "metadata": {},
   "source": [
    "We can add a line between points by calling the plot method again, this time without using the 'ro' argument.  We can also set labels and legend properties.  In the label for the y axis, we added the superscript three symbol by surrounding the code \"^3\" with the \\\\$ symbol. Anything between the \\\\$ symbols is evaluated as a Latex expression. This is a convenient way to have access to mathematical notation and Greek letters. "
   ]
  },
  {
   "cell_type": "code",
   "execution_count": null,
   "id": "50e9fb17",
   "metadata": {
    "scrolled": true
   },
   "outputs": [],
   "source": [
    "subfig.plot(year[0:4], pm25[0:4], label='Line')\n",
    "subfig.set_ylabel('PM 2.5, micrograms/m$^3$')\n",
    "subfig.set_xlabel('Year')\n",
    "subfig.legend()\n",
    "figure1"
   ]
  },
  {
   "cell_type": "markdown",
   "id": "499d23c5",
   "metadata": {},
   "source": [
    "## Doing some analysis\n",
    "\n",
    "A simple analytical excercise may involve adding a regression line through the datapoints. We can accomplish this relatively easily using the scypy.stats package. Here, we compute the slope and y intercept using the stats.linregress() method, then compute the value of y for each value of x (time for us).  This results in a new dataset we can plot as a line. "
   ]
  },
  {
   "cell_type": "code",
   "execution_count": null,
   "id": "48483333",
   "metadata": {},
   "outputs": [],
   "source": [
    "from scipy import stats\n",
    "slope, intercept, r_value, p_value, std_err = stats.linregress(year, pm25)\n",
    "x = np.arange(2015,2019,1)  #this creates regular values between 2015 and 2019 at interval 1\n",
    "y = slope*x+intercept"
   ]
  },
  {
   "cell_type": "markdown",
   "id": "f3a371dd",
   "metadata": {},
   "source": [
    "We now add this regression line to the figure and call the legend method again to ensure that the regression line is included in the legend."
   ]
  },
  {
   "cell_type": "code",
   "execution_count": null,
   "id": "9b1da835",
   "metadata": {},
   "outputs": [],
   "source": [
    "subfig.plot(x,y,'--',label='Regression',color='brown')\n",
    "subfig.legend()\n",
    "figure1"
   ]
  },
  {
   "cell_type": "markdown",
   "id": "27ac6b39",
   "metadata": {},
   "source": [
    "## Quick and dirty plotting approach in Pandas\n",
    "\n",
    "If you imported data as Pandas (as opposed to numpy), there is a very fast way to plot, even without importing the matplotlib library. The dataframe's plot.scatter() method makes creating a simple graph very straighforward. The drawback to this approach is that it can be more difficult to add additional series to the plot, but for a single graph, this works fine."
   ]
  },
  {
   "cell_type": "code",
   "execution_count": null,
   "id": "7fc19dae",
   "metadata": {
    "scrolled": true
   },
   "outputs": [],
   "source": [
    "subfigure2 = df.plot.scatter(x='year', y='pm2.5', color = 'green')"
   ]
  },
  {
   "cell_type": "markdown",
   "id": "857a1f4c",
   "metadata": {},
   "source": [
    "Note that the df.plot method returns the same type of object we were referring to previously as a \"subfigure\"--more precisely, this is called a Matplotlib axis, presumably because each subfigure in a figure has it's own set of x- and y- axes.  \n",
    "\n",
    "## Two-part figures\n",
    "\n",
    "We can create multi-part figures using a very similar syntax.  Here, we create a new figure that we call figure 3.  However, this time, we include two separate subfigures in the figure. The argument in the plt.supblots() call tells the methods whether there are two figures in the figures are distributed vertically or horizontally. "
   ]
  },
  {
   "cell_type": "code",
   "execution_count": null,
   "id": "5635a2d5",
   "metadata": {},
   "outputs": [],
   "source": [
    "figure3, (subfig2, subfig3) = plt.subplots(2,1)\n",
    "subfig2.plot(year, pm25, 'ro')\n",
    "subfig2.set_title('data')\n",
    "subfig3.plot(x, y, 'g-')\n",
    "subfig3.set_title('model')\n",
    "figure3.tight_layout()"
   ]
  },
  {
   "cell_type": "markdown",
   "id": "aa8d8e3c",
   "metadata": {},
   "source": [
    "This produces two separate subfigures that share a common x axis. \n",
    "\n",
    "Add axis labels to each sub-figure (or, using the more standard nomenclature, to each axis) individually. Here, we'll shorten the label by addign a greek letter between the \\\\$ symbols. The backslash is required for this to work."
   ]
  },
  {
   "cell_type": "code",
   "execution_count": null,
   "id": "d1b1f09d",
   "metadata": {},
   "outputs": [],
   "source": [
    "subfig2.set_ylabel('PM 2.5, $\\mu$g/m$^3$')\n",
    "subfig3.set_ylabel('PM 2.5, $\\mu$g/m$^3$')\n",
    "figure3"
   ]
  },
  {
   "cell_type": "markdown",
   "id": "7fae9032",
   "metadata": {},
   "source": [
    "## Other built-in plots\n",
    "\n",
    "There are MANY other types of built-in plots in matplotlib and Pandas, and there are many online tutorials for creating.  Here are just a few examples.\n",
    "\n",
    "### Box Plot"
   ]
  },
  {
   "cell_type": "code",
   "execution_count": null,
   "id": "66a38a10",
   "metadata": {},
   "outputs": [],
   "source": [
    "figure4, subfig4 = plt.subplots()\n",
    "figure4 = df['pm2.5'].plot.box()"
   ]
  },
  {
   "cell_type": "markdown",
   "id": "80ddf0a7",
   "metadata": {},
   "source": [
    "### Bar Chart"
   ]
  },
  {
   "cell_type": "code",
   "execution_count": null,
   "id": "3c8e18a2",
   "metadata": {},
   "outputs": [],
   "source": [
    "figure5 = df.plot.bar(x='year',y='pm2.5')"
   ]
  },
  {
   "cell_type": "markdown",
   "id": "0db1492d",
   "metadata": {},
   "source": [
    "### Pie Chart"
   ]
  },
  {
   "cell_type": "code",
   "execution_count": null,
   "id": "5318a354",
   "metadata": {},
   "outputs": [],
   "source": [
    "figure_pie = df.plot.pie(y='pm2.5')"
   ]
  },
  {
   "cell_type": "markdown",
   "id": "fbb075f1",
   "metadata": {},
   "source": [
    "## Importing, cleaning, and graphing a larger dataset\n",
    "\n",
    "Here, we read a large dataset that was downloaded from an external source. The data file must be either stored in the same folder as the Jupyter Notebook or a full path must be provided. The data includes an eight-line header that is not relevant for analysis, so we ignore this when we import the data using the \"skiprows\" argument. We also want Pandas to know these are dates and times, so we import with the parse_dates argument set to True.\n",
    "\n",
    "Note that there is also a function called read_excel() that allows you to directly read data from a MS Excel spreadsheet. "
   ]
  },
  {
   "cell_type": "code",
   "execution_count": null,
   "id": "b2b30c27",
   "metadata": {},
   "outputs": [],
   "source": [
    "df2 = pd.read_csv('AirQualityTelemetryData.csv', skiprows=8) \n",
    "df2"
   ]
  },
  {
   "cell_type": "markdown",
   "id": "bb6cc249",
   "metadata": {},
   "source": [
    "There are 8784 rows of data in the table, so we only the first and last five rows of the imported data are displayed here. The column headings are a little long, so now we assign names to each column.  It is also convenient to tell Pandas which column you will use as your x axis (something referred to as the \"index\" in Pandas).  We would very likely plot against time, so we use the 'datetime' column here as the index.  This will also clean up how the table looks if we try to display it.  "
   ]
  },
  {
   "cell_type": "code",
   "execution_count": null,
   "id": "5fb4d0c2",
   "metadata": {},
   "outputs": [],
   "source": [
    "df2.columns = ['datetime','PM2.5']\n",
    "df2['datetime'] = pd.to_datetime(df2['datetime'])\n",
    "df2=df2.set_index(['datetime'])\n",
    "df2"
   ]
  },
  {
   "cell_type": "markdown",
   "id": "5871eef8",
   "metadata": {},
   "source": [
    "The data now looks much cleaner and is easier to refer to later when we graph it. \n",
    "\n",
    "We now do the same thing for a couple other datasets."
   ]
  },
  {
   "cell_type": "code",
   "execution_count": null,
   "id": "816f4ba6",
   "metadata": {},
   "outputs": [],
   "source": [
    "df3 = pd.read_csv('Nephelometer.csv', skiprows=8) \n",
    "df3.columns = ['datetime', 'PM2.5'] \n",
    "df3['datetime'] = pd.to_datetime(df3['datetime'])\n",
    "df3=df3.set_index(['datetime'])\n",
    "\n",
    "df4 = pd.read_csv('MetOne.csv', skiprows=8) \n",
    "df4.columns = ['datetime', 'PM2.5'] \n",
    "df4['datetime'] = pd.to_datetime(df4['datetime'])\n",
    "df4=df4.set_index(['datetime'])\n",
    "df4"
   ]
  },
  {
   "cell_type": "markdown",
   "id": "28fc57d3",
   "metadata": {},
   "source": [
    "We can now add the various parts of our imported data to a new figure.  Here, we'll create a figure that includes two subfigures (aka two axes).  In the first subfigure, we plot the 10th and Weller data, which we previously imported to dataframe df2.  "
   ]
  },
  {
   "cell_type": "code",
   "execution_count": null,
   "id": "c75763ef",
   "metadata": {
    "scrolled": true
   },
   "outputs": [],
   "source": [
    "figure6, (subfig6, subfig7) = plt.subplots(2,1)"
   ]
  },
  {
   "cell_type": "markdown",
   "id": "d3d575a2",
   "metadata": {},
   "source": [
    "Data are added to the plot using the Pandas dataframe.plot() function.  Here, we only add to the upper of the two subplots (or axes)."
   ]
  },
  {
   "cell_type": "code",
   "execution_count": null,
   "id": "8742f8a7",
   "metadata": {},
   "outputs": [],
   "source": [
    "df2.plot(ax=subfig6, linewidth=0.3) \n",
    "figure6"
   ]
  },
  {
   "cell_type": "markdown",
   "id": "5eee1a7d",
   "metadata": {},
   "source": [
    "Note that the legend entry defaults to the name of the column in the dataframe.This can be changed later."
   ]
  },
  {
   "cell_type": "code",
   "execution_count": null,
   "id": "c04f1a79",
   "metadata": {},
   "outputs": [],
   "source": [
    "subfig6.set_ylabel('PM2.5 ($\\mu$g/m$^3$)') #interprets latex string between $$ symbols. see https://matplotlib.org/users/mathtext.html\n",
    "subfig6.set_xlabel('Your x label')\n",
    "subfig6.set_title('Yoursubtitle')\n",
    "subfig6.legend(['legend entry'])\n",
    "figure6"
   ]
  },
  {
   "cell_type": "markdown",
   "id": "7632a639",
   "metadata": {},
   "source": [
    "### Adding additional data to the figure\n",
    "We can plot any additional date we like.  Here, we ensure it ends up in the lower subfigure by specifying the appropriate one in using the \"ax\" argument."
   ]
  },
  {
   "cell_type": "code",
   "execution_count": null,
   "id": "141162fb",
   "metadata": {},
   "outputs": [],
   "source": [
    "df3.plot(ax=subfig7, label='file 2',linewidth=0.5)\n",
    "df4.plot(ax=subfig7, label='file 3',linewidth=0.5)\n",
    "figure6"
   ]
  },
  {
   "cell_type": "markdown",
   "id": "6bf79b76",
   "metadata": {},
   "source": [
    "Note that the legend entries for the two datasets in the lower graph are identical, and once again are simply the names of the columns in our dataframes.  Unfortunately, it is difficult to set these before creating the graph using the pandas dataframe.plot method.  However, they can be reset later, and additional axis labels can be created.  An alternative way of creating a graph, using matplotlibs plt.plot() method, will allow labels to be set upon plot instantiation, but the horizontal axis labels are generally cleaner when using the pandas dataframe.plot method."
   ]
  },
  {
   "cell_type": "code",
   "execution_count": null,
   "id": "bc61fae9",
   "metadata": {},
   "outputs": [],
   "source": [
    "subfig7.set_ylabel('Your y label')  #interprets latex string designated between $$ symbols. String passed using the r'\\char'\n",
    "subfig7.set_xlabel('Your x label')\n",
    "subfig7.legend(['entry1','entry2'])\n",
    "subfig7.set_title('Yoursubtitle')\n",
    "figure6.tight_layout()\n",
    "figure6"
   ]
  },
  {
   "cell_type": "markdown",
   "id": "e9d3c351",
   "metadata": {},
   "source": [
    "### Plotting partial datasets\n",
    "If a dataframe's index has been set to an appropirately parsed datetime column, it is possible to select any date range of interest before graphing.  Here a small portion of the graph in the upper figure is added to the lower figure."
   ]
  },
  {
   "cell_type": "code",
   "execution_count": null,
   "id": "8ae76b8b",
   "metadata": {},
   "outputs": [],
   "source": [
    "df2['6-1-2018':'9-15-2018'].plot(ax=subfig7, linewidth=0.5, color='red')\n",
    "subfig7.legend(['entry1','entry2','partial data'])\n",
    "figure6"
   ]
  },
  {
   "cell_type": "markdown",
   "id": "f1b6e893",
   "metadata": {},
   "source": [
    "## Figure control\n",
    "\n",
    "### Resizing an existing figure"
   ]
  },
  {
   "cell_type": "code",
   "execution_count": null,
   "id": "be0425ac",
   "metadata": {},
   "outputs": [],
   "source": [
    "figure6.set_size_inches(4,5)\n",
    "figure6"
   ]
  },
  {
   "cell_type": "markdown",
   "id": "6b1ec0ef",
   "metadata": {},
   "source": [
    "### Interactive figures\n",
    "To make the plot interactive, Jupyter Notebook (not Python) provides a magic command that you can enter in the Jupyter Notebook prompt. If developing in Spyder, you can set this as the default option by going to Tools-->Preferences-->IPython console-->Graphics and then selecting Automatic for the backend. In any case, once invoked, new figures will open in their own resizable windows.  Here, the code for creating the figure above is given.  To ensure that zooming in on one axis results in the same date/time range on the other, the sharex keyword is used when the figure is initialized."
   ]
  },
  {
   "cell_type": "code",
   "execution_count": null,
   "id": "398d789e",
   "metadata": {},
   "outputs": [],
   "source": [
    "%matplotlib auto"
   ]
  },
  {
   "cell_type": "markdown",
   "id": "c6001ba1",
   "metadata": {},
   "source": [
    "From here on, any new figures will automatically show up both inline and in the interactive figure window."
   ]
  },
  {
   "cell_type": "code",
   "execution_count": null,
   "id": "1f579efd",
   "metadata": {
    "scrolled": false
   },
   "outputs": [],
   "source": [
    "figure8, (subfig8, subfig9) = plt.subplots(2,1, sharex=True)\n",
    "df2.plot(ax=subfig8, label='file 1',linewidth=0.3)\n",
    "subfig8.set_ylabel('PM2.5 ($\\mu$g/m$^3$)') \n",
    "subfig8.set_title('Yoursubtitle')\n",
    "subfig8.legend(['legend entry'])\n",
    "df3.plot(ax=subfig9, label='file 2',linewidth=0.5)\n",
    "df4.plot(ax=subfig9, label='file 3',linewidth=0.5)\n",
    "df2['6-1-2018':'9-15-2018'].plot(ax=subfig9, linewidth=0.5, color='red')\n",
    "subfig9.set_ylabel('Your y label') \n",
    "subfig9.set_xlabel('Your x label')\n",
    "subfig9.legend(['entry1','entry2','partial data'])\n",
    "subfig9.set_title('Yoursubtitle')\n",
    "figure8.tight_layout()\n",
    "figure8"
   ]
  },
  {
   "cell_type": "markdown",
   "id": "f71a7747",
   "metadata": {},
   "source": [
    "## On-your-own activity (Part of the homework due Thursday)\n",
    "Download a comma-delimited textfile from the Puget Sound Clean Air Agency representing PM2.5 measurements at the 10th and Weller station (near the site of the proposed urban garden we discussed last week. Download hourly data for the entire period between 1/1/2020 and 1/1/2022.  Data are available here:\n",
    "\n",
    "https://secure.pscleanair.org/airgraphing\n",
    "\n",
    "Download for the site “Seattle 10th and Weller”, then for parameter “PM 2.5 MetOne Bam” and calculation “1-hour average v(7)”.  Click “Go” to produce a graph in the window.  Then click the csv button in the lower right to download the file.  Open the file in Excel and note that the data appear to start on line 10 of the file. This should be the same format as the data used in the above examples. The first column is date/time, and the second is the PM2.5 measurement. \n",
    "\n",
    "Repeat the process for one other station in Seattle.  This time, include one other PM 2.5 Method.  Note that the method most equivalent to the Honeywell PM2.5 sensor is the Nephelometer method, which depends on light scattering. Plot this other station on the second axis.\n",
    "\n",
    "Use the material in this notebook to graph the data over the course of the year for the 10th and Weller station (only one sensor available) and your other station. If you can find one with more than one PM2.5 measurement method, include the measurements from both methods on that figure. Turn in the graph, along with a descriptive caption, as part of your assignment on Thursday. "
   ]
  },
  {
   "cell_type": "code",
   "execution_count": null,
   "id": "553fda53",
   "metadata": {},
   "outputs": [],
   "source": []
  }
 ],
 "metadata": {
  "kernelspec": {
   "display_name": "Python 3 (ipykernel)",
   "language": "python",
   "name": "python3"
  },
  "language_info": {
   "codemirror_mode": {
    "name": "ipython",
    "version": 3
   },
   "file_extension": ".py",
   "mimetype": "text/x-python",
   "name": "python",
   "nbconvert_exporter": "python",
   "pygments_lexer": "ipython3",
   "version": "3.9.7"
  }
 },
 "nbformat": 4,
 "nbformat_minor": 5
}
